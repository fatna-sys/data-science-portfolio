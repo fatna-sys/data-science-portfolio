{
 "cells": [
  {
   "cell_type": "markdown",
   "id": "ee208f41",
   "metadata": {
    "papermill": {
     "duration": 0.046042,
     "end_time": "2022-01-31T10:01:16.064095",
     "exception": false,
     "start_time": "2022-01-31T10:01:16.018053",
     "status": "completed"
    },
    "tags": []
   },
   "source": [
    "### Importing Libraries "
   ]
  },
  {
   "cell_type": "code",
   "execution_count": 1,
   "id": "53a2ea0c",
   "metadata": {
    "execution": {
     "iopub.execute_input": "2022-01-31T10:01:16.161143Z",
     "iopub.status.busy": "2022-01-31T10:01:16.159908Z",
     "iopub.status.idle": "2022-01-31T10:01:17.732514Z",
     "shell.execute_reply": "2022-01-31T10:01:17.731844Z",
     "shell.execute_reply.started": "2022-01-31T09:57:48.697553Z"
    },
    "papermill": {
     "duration": 1.621345,
     "end_time": "2022-01-31T10:01:17.732642",
     "exception": false,
     "start_time": "2022-01-31T10:01:16.111297",
     "status": "completed"
    },
    "tags": []
   },
   "outputs": [],
   "source": [
    "import numpy as np \n",
    "import pandas as pd\n",
    "import matplotlib.pyplot as plt\n",
    "from matplotlib import cm\n",
    "plt.style.use('ggplot')\n",
    "\n",
    "import seaborn as sns\n",
    "\n",
    "from sklearn.model_selection import train_test_split,KFold,cross_val_score\n",
    "from sklearn.ensemble import RandomForestClassifier\n",
    "from sklearn.metrics import accuracy_score,confusion_matrix,f1_score,classification_report\n",
    "\n",
    "from IPython.core.interactiveshell import InteractiveShell \n",
    "InteractiveShell.ast_node_interactivity = \"all\"\n",
    "\n",
    "seed = np.random.seed(21)"
   ]
  },
  {
   "cell_type": "markdown",
   "id": "03b6aa48",
   "metadata": {
    "papermill": {
     "duration": 0.044342,
     "end_time": "2022-01-31T10:01:17.822052",
     "exception": false,
     "start_time": "2022-01-31T10:01:17.777710",
     "status": "completed"
    },
    "tags": []
   },
   "source": [
    "###  Loading Train and Test Data"
   ]
  },
  {
   "cell_type": "code",
   "execution_count": 2,
   "id": "700d8407",
   "metadata": {
    "execution": {
     "iopub.execute_input": "2022-01-31T10:01:17.916702Z",
     "iopub.status.busy": "2022-01-31T10:01:17.916014Z",
     "iopub.status.idle": "2022-01-31T10:01:18.145375Z",
     "shell.execute_reply": "2022-01-31T10:01:18.145745Z",
     "shell.execute_reply.started": "2022-01-31T09:57:50.392338Z"
    },
    "papermill": {
     "duration": 0.277806,
     "end_time": "2022-01-31T10:01:18.145891",
     "exception": false,
     "start_time": "2022-01-31T10:01:17.868085",
     "status": "completed"
    },
    "tags": []
   },
   "outputs": [
    {
     "data": {
      "text/plain": [
       "(9557, 143)"
      ]
     },
     "metadata": {},
     "output_type": "display_data"
    },
    {
     "data": {
      "text/html": [
       "<div>\n",
       "<style scoped>\n",
       "    .dataframe tbody tr th:only-of-type {\n",
       "        vertical-align: middle;\n",
       "    }\n",
       "\n",
       "    .dataframe tbody tr th {\n",
       "        vertical-align: top;\n",
       "    }\n",
       "\n",
       "    .dataframe thead th {\n",
       "        text-align: right;\n",
       "    }\n",
       "</style>\n",
       "<table border=\"1\" class=\"dataframe\">\n",
       "  <thead>\n",
       "    <tr style=\"text-align: right;\">\n",
       "      <th></th>\n",
       "      <th>Id</th>\n",
       "      <th>v2a1</th>\n",
       "      <th>hacdor</th>\n",
       "      <th>rooms</th>\n",
       "      <th>hacapo</th>\n",
       "      <th>v14a</th>\n",
       "      <th>refrig</th>\n",
       "      <th>v18q</th>\n",
       "      <th>v18q1</th>\n",
       "      <th>r4h1</th>\n",
       "      <th>...</th>\n",
       "      <th>SQBescolari</th>\n",
       "      <th>SQBage</th>\n",
       "      <th>SQBhogar_total</th>\n",
       "      <th>SQBedjefe</th>\n",
       "      <th>SQBhogar_nin</th>\n",
       "      <th>SQBovercrowding</th>\n",
       "      <th>SQBdependency</th>\n",
       "      <th>SQBmeaned</th>\n",
       "      <th>agesq</th>\n",
       "      <th>Target</th>\n",
       "    </tr>\n",
       "  </thead>\n",
       "  <tbody>\n",
       "    <tr>\n",
       "      <th>0</th>\n",
       "      <td>ID_279628684</td>\n",
       "      <td>190000.0</td>\n",
       "      <td>0</td>\n",
       "      <td>3</td>\n",
       "      <td>0</td>\n",
       "      <td>1</td>\n",
       "      <td>1</td>\n",
       "      <td>0</td>\n",
       "      <td>NaN</td>\n",
       "      <td>0</td>\n",
       "      <td>...</td>\n",
       "      <td>100</td>\n",
       "      <td>1849</td>\n",
       "      <td>1</td>\n",
       "      <td>100</td>\n",
       "      <td>0</td>\n",
       "      <td>1.000000</td>\n",
       "      <td>0.0</td>\n",
       "      <td>100.0</td>\n",
       "      <td>1849</td>\n",
       "      <td>4</td>\n",
       "    </tr>\n",
       "    <tr>\n",
       "      <th>1</th>\n",
       "      <td>ID_f29eb3ddd</td>\n",
       "      <td>135000.0</td>\n",
       "      <td>0</td>\n",
       "      <td>4</td>\n",
       "      <td>0</td>\n",
       "      <td>1</td>\n",
       "      <td>1</td>\n",
       "      <td>1</td>\n",
       "      <td>1.0</td>\n",
       "      <td>0</td>\n",
       "      <td>...</td>\n",
       "      <td>144</td>\n",
       "      <td>4489</td>\n",
       "      <td>1</td>\n",
       "      <td>144</td>\n",
       "      <td>0</td>\n",
       "      <td>1.000000</td>\n",
       "      <td>64.0</td>\n",
       "      <td>144.0</td>\n",
       "      <td>4489</td>\n",
       "      <td>4</td>\n",
       "    </tr>\n",
       "    <tr>\n",
       "      <th>2</th>\n",
       "      <td>ID_68de51c94</td>\n",
       "      <td>NaN</td>\n",
       "      <td>0</td>\n",
       "      <td>8</td>\n",
       "      <td>0</td>\n",
       "      <td>1</td>\n",
       "      <td>1</td>\n",
       "      <td>0</td>\n",
       "      <td>NaN</td>\n",
       "      <td>0</td>\n",
       "      <td>...</td>\n",
       "      <td>121</td>\n",
       "      <td>8464</td>\n",
       "      <td>1</td>\n",
       "      <td>0</td>\n",
       "      <td>0</td>\n",
       "      <td>0.250000</td>\n",
       "      <td>64.0</td>\n",
       "      <td>121.0</td>\n",
       "      <td>8464</td>\n",
       "      <td>4</td>\n",
       "    </tr>\n",
       "    <tr>\n",
       "      <th>3</th>\n",
       "      <td>ID_d671db89c</td>\n",
       "      <td>180000.0</td>\n",
       "      <td>0</td>\n",
       "      <td>5</td>\n",
       "      <td>0</td>\n",
       "      <td>1</td>\n",
       "      <td>1</td>\n",
       "      <td>1</td>\n",
       "      <td>1.0</td>\n",
       "      <td>0</td>\n",
       "      <td>...</td>\n",
       "      <td>81</td>\n",
       "      <td>289</td>\n",
       "      <td>16</td>\n",
       "      <td>121</td>\n",
       "      <td>4</td>\n",
       "      <td>1.777778</td>\n",
       "      <td>1.0</td>\n",
       "      <td>121.0</td>\n",
       "      <td>289</td>\n",
       "      <td>4</td>\n",
       "    </tr>\n",
       "    <tr>\n",
       "      <th>4</th>\n",
       "      <td>ID_d56d6f5f5</td>\n",
       "      <td>180000.0</td>\n",
       "      <td>0</td>\n",
       "      <td>5</td>\n",
       "      <td>0</td>\n",
       "      <td>1</td>\n",
       "      <td>1</td>\n",
       "      <td>1</td>\n",
       "      <td>1.0</td>\n",
       "      <td>0</td>\n",
       "      <td>...</td>\n",
       "      <td>121</td>\n",
       "      <td>1369</td>\n",
       "      <td>16</td>\n",
       "      <td>121</td>\n",
       "      <td>4</td>\n",
       "      <td>1.777778</td>\n",
       "      <td>1.0</td>\n",
       "      <td>121.0</td>\n",
       "      <td>1369</td>\n",
       "      <td>4</td>\n",
       "    </tr>\n",
       "  </tbody>\n",
       "</table>\n",
       "<p>5 rows × 143 columns</p>\n",
       "</div>"
      ],
      "text/plain": [
       "             Id      v2a1  hacdor  rooms  hacapo  v14a  refrig  v18q  v18q1  \\\n",
       "0  ID_279628684  190000.0       0      3       0     1       1     0    NaN   \n",
       "1  ID_f29eb3ddd  135000.0       0      4       0     1       1     1    1.0   \n",
       "2  ID_68de51c94       NaN       0      8       0     1       1     0    NaN   \n",
       "3  ID_d671db89c  180000.0       0      5       0     1       1     1    1.0   \n",
       "4  ID_d56d6f5f5  180000.0       0      5       0     1       1     1    1.0   \n",
       "\n",
       "   r4h1  ...  SQBescolari  SQBage  SQBhogar_total  SQBedjefe  SQBhogar_nin  \\\n",
       "0     0  ...          100    1849               1        100             0   \n",
       "1     0  ...          144    4489               1        144             0   \n",
       "2     0  ...          121    8464               1          0             0   \n",
       "3     0  ...           81     289              16        121             4   \n",
       "4     0  ...          121    1369              16        121             4   \n",
       "\n",
       "   SQBovercrowding  SQBdependency  SQBmeaned  agesq  Target  \n",
       "0         1.000000            0.0      100.0   1849       4  \n",
       "1         1.000000           64.0      144.0   4489       4  \n",
       "2         0.250000           64.0      121.0   8464       4  \n",
       "3         1.777778            1.0      121.0    289       4  \n",
       "4         1.777778            1.0      121.0   1369       4  \n",
       "\n",
       "[5 rows x 143 columns]"
      ]
     },
     "metadata": {},
     "output_type": "display_data"
    }
   ],
   "source": [
    "#Loading Train Data \n",
    "data_train = pd.read_csv(\"../input/costa-rican-household-poverty-prediction/train.csv\")\n",
    "display(data_train.shape, data_train.head())"
   ]
  },
  {
   "cell_type": "code",
   "execution_count": 3,
   "id": "8b60c301",
   "metadata": {
    "execution": {
     "iopub.execute_input": "2022-01-31T10:01:18.242991Z",
     "iopub.status.busy": "2022-01-31T10:01:18.242301Z",
     "iopub.status.idle": "2022-01-31T10:01:18.598405Z",
     "shell.execute_reply": "2022-01-31T10:01:18.598875Z",
     "shell.execute_reply.started": "2022-01-31T09:57:50.641345Z"
    },
    "papermill": {
     "duration": 0.405954,
     "end_time": "2022-01-31T10:01:18.599017",
     "exception": false,
     "start_time": "2022-01-31T10:01:18.193063",
     "status": "completed"
    },
    "tags": []
   },
   "outputs": [
    {
     "data": {
      "text/plain": [
       "(23856, 142)"
      ]
     },
     "metadata": {},
     "output_type": "display_data"
    },
    {
     "data": {
      "text/html": [
       "<div>\n",
       "<style scoped>\n",
       "    .dataframe tbody tr th:only-of-type {\n",
       "        vertical-align: middle;\n",
       "    }\n",
       "\n",
       "    .dataframe tbody tr th {\n",
       "        vertical-align: top;\n",
       "    }\n",
       "\n",
       "    .dataframe thead th {\n",
       "        text-align: right;\n",
       "    }\n",
       "</style>\n",
       "<table border=\"1\" class=\"dataframe\">\n",
       "  <thead>\n",
       "    <tr style=\"text-align: right;\">\n",
       "      <th></th>\n",
       "      <th>Id</th>\n",
       "      <th>v2a1</th>\n",
       "      <th>hacdor</th>\n",
       "      <th>rooms</th>\n",
       "      <th>hacapo</th>\n",
       "      <th>v14a</th>\n",
       "      <th>refrig</th>\n",
       "      <th>v18q</th>\n",
       "      <th>v18q1</th>\n",
       "      <th>r4h1</th>\n",
       "      <th>...</th>\n",
       "      <th>age</th>\n",
       "      <th>SQBescolari</th>\n",
       "      <th>SQBage</th>\n",
       "      <th>SQBhogar_total</th>\n",
       "      <th>SQBedjefe</th>\n",
       "      <th>SQBhogar_nin</th>\n",
       "      <th>SQBovercrowding</th>\n",
       "      <th>SQBdependency</th>\n",
       "      <th>SQBmeaned</th>\n",
       "      <th>agesq</th>\n",
       "    </tr>\n",
       "  </thead>\n",
       "  <tbody>\n",
       "    <tr>\n",
       "      <th>0</th>\n",
       "      <td>ID_2f6873615</td>\n",
       "      <td>NaN</td>\n",
       "      <td>0</td>\n",
       "      <td>5</td>\n",
       "      <td>0</td>\n",
       "      <td>1</td>\n",
       "      <td>1</td>\n",
       "      <td>0</td>\n",
       "      <td>NaN</td>\n",
       "      <td>1</td>\n",
       "      <td>...</td>\n",
       "      <td>4</td>\n",
       "      <td>0</td>\n",
       "      <td>16</td>\n",
       "      <td>9</td>\n",
       "      <td>0</td>\n",
       "      <td>1</td>\n",
       "      <td>2.25</td>\n",
       "      <td>0.25</td>\n",
       "      <td>272.25</td>\n",
       "      <td>16</td>\n",
       "    </tr>\n",
       "    <tr>\n",
       "      <th>1</th>\n",
       "      <td>ID_1c78846d2</td>\n",
       "      <td>NaN</td>\n",
       "      <td>0</td>\n",
       "      <td>5</td>\n",
       "      <td>0</td>\n",
       "      <td>1</td>\n",
       "      <td>1</td>\n",
       "      <td>0</td>\n",
       "      <td>NaN</td>\n",
       "      <td>1</td>\n",
       "      <td>...</td>\n",
       "      <td>41</td>\n",
       "      <td>256</td>\n",
       "      <td>1681</td>\n",
       "      <td>9</td>\n",
       "      <td>0</td>\n",
       "      <td>1</td>\n",
       "      <td>2.25</td>\n",
       "      <td>0.25</td>\n",
       "      <td>272.25</td>\n",
       "      <td>1681</td>\n",
       "    </tr>\n",
       "    <tr>\n",
       "      <th>2</th>\n",
       "      <td>ID_e5442cf6a</td>\n",
       "      <td>NaN</td>\n",
       "      <td>0</td>\n",
       "      <td>5</td>\n",
       "      <td>0</td>\n",
       "      <td>1</td>\n",
       "      <td>1</td>\n",
       "      <td>0</td>\n",
       "      <td>NaN</td>\n",
       "      <td>1</td>\n",
       "      <td>...</td>\n",
       "      <td>41</td>\n",
       "      <td>289</td>\n",
       "      <td>1681</td>\n",
       "      <td>9</td>\n",
       "      <td>0</td>\n",
       "      <td>1</td>\n",
       "      <td>2.25</td>\n",
       "      <td>0.25</td>\n",
       "      <td>272.25</td>\n",
       "      <td>1681</td>\n",
       "    </tr>\n",
       "    <tr>\n",
       "      <th>3</th>\n",
       "      <td>ID_a8db26a79</td>\n",
       "      <td>NaN</td>\n",
       "      <td>0</td>\n",
       "      <td>14</td>\n",
       "      <td>0</td>\n",
       "      <td>1</td>\n",
       "      <td>1</td>\n",
       "      <td>1</td>\n",
       "      <td>1.0</td>\n",
       "      <td>0</td>\n",
       "      <td>...</td>\n",
       "      <td>59</td>\n",
       "      <td>256</td>\n",
       "      <td>3481</td>\n",
       "      <td>1</td>\n",
       "      <td>256</td>\n",
       "      <td>0</td>\n",
       "      <td>1.00</td>\n",
       "      <td>0.00</td>\n",
       "      <td>256.00</td>\n",
       "      <td>3481</td>\n",
       "    </tr>\n",
       "    <tr>\n",
       "      <th>4</th>\n",
       "      <td>ID_a62966799</td>\n",
       "      <td>175000.0</td>\n",
       "      <td>0</td>\n",
       "      <td>4</td>\n",
       "      <td>0</td>\n",
       "      <td>1</td>\n",
       "      <td>1</td>\n",
       "      <td>1</td>\n",
       "      <td>1.0</td>\n",
       "      <td>0</td>\n",
       "      <td>...</td>\n",
       "      <td>18</td>\n",
       "      <td>121</td>\n",
       "      <td>324</td>\n",
       "      <td>1</td>\n",
       "      <td>0</td>\n",
       "      <td>1</td>\n",
       "      <td>0.25</td>\n",
       "      <td>64.00</td>\n",
       "      <td>NaN</td>\n",
       "      <td>324</td>\n",
       "    </tr>\n",
       "  </tbody>\n",
       "</table>\n",
       "<p>5 rows × 142 columns</p>\n",
       "</div>"
      ],
      "text/plain": [
       "             Id      v2a1  hacdor  rooms  hacapo  v14a  refrig  v18q  v18q1  \\\n",
       "0  ID_2f6873615       NaN       0      5       0     1       1     0    NaN   \n",
       "1  ID_1c78846d2       NaN       0      5       0     1       1     0    NaN   \n",
       "2  ID_e5442cf6a       NaN       0      5       0     1       1     0    NaN   \n",
       "3  ID_a8db26a79       NaN       0     14       0     1       1     1    1.0   \n",
       "4  ID_a62966799  175000.0       0      4       0     1       1     1    1.0   \n",
       "\n",
       "   r4h1  ...  age  SQBescolari  SQBage  SQBhogar_total  SQBedjefe  \\\n",
       "0     1  ...    4            0      16               9          0   \n",
       "1     1  ...   41          256    1681               9          0   \n",
       "2     1  ...   41          289    1681               9          0   \n",
       "3     0  ...   59          256    3481               1        256   \n",
       "4     0  ...   18          121     324               1          0   \n",
       "\n",
       "   SQBhogar_nin  SQBovercrowding  SQBdependency  SQBmeaned  agesq  \n",
       "0             1             2.25           0.25     272.25     16  \n",
       "1             1             2.25           0.25     272.25   1681  \n",
       "2             1             2.25           0.25     272.25   1681  \n",
       "3             0             1.00           0.00     256.00   3481  \n",
       "4             1             0.25          64.00        NaN    324  \n",
       "\n",
       "[5 rows x 142 columns]"
      ]
     },
     "metadata": {},
     "output_type": "display_data"
    }
   ],
   "source": [
    "#Loading Test Data\n",
    "data_test = pd.read_csv(\"../input/costa-rican-household-poverty-prediction/test.csv\")\n",
    "display(data_test.shape, data_test.head())"
   ]
  },
  {
   "cell_type": "markdown",
   "id": "56fec7c6",
   "metadata": {
    "papermill": {
     "duration": 0.047207,
     "end_time": "2022-01-31T10:01:18.693973",
     "exception": false,
     "start_time": "2022-01-31T10:01:18.646766",
     "status": "completed"
    },
    "tags": []
   },
   "source": [
    "### Inferences from the first view of data -\n",
    "- There are 142 features and 1 Target field\n",
    "- **Id** is the unique identifier for each datapoint\n",
    "- **Target** is an ordinal variable indicating the income levels \n",
    "        - 1 : Extreme Poverty\n",
    "        - 2 : Moderate Poverty\n",
    "        - 3 : Vulnerable Households\n",
    "        - 4 : Non-vulnerable Households\n",
    "            \n",
    "- **idhogar** is an unique identifier for each houshold. Hence, for household level analysis this feature should be considered.\n",
    "- **parentesco1** indicates if the person is head of the family\n",
    "- There are 9556 datapoints in Train Dataset and 23856 datapoints in Test Dataset\n",
    "\n"
   ]
  },
  {
   "cell_type": "markdown",
   "id": "1d4816f3",
   "metadata": {
    "papermill": {
     "duration": 0.047261,
     "end_time": "2022-01-31T10:01:18.788461",
     "exception": false,
     "start_time": "2022-01-31T10:01:18.741200",
     "status": "completed"
    },
    "tags": []
   },
   "source": [
    "## Identify the output variable"
   ]
  },
  {
   "cell_type": "markdown",
   "id": "26ccb2d5",
   "metadata": {
    "papermill": {
     "duration": 0.046738,
     "end_time": "2022-01-31T10:01:18.881823",
     "exception": false,
     "start_time": "2022-01-31T10:01:18.835085",
     "status": "completed"
    },
    "tags": []
   },
   "source": [
    "The output variable is **Target** column from the dataset.\n",
    "\n",
    "Test dataset does not have the **Target** column.\n",
    "\n",
    "It has zero null values.Datatype is int64.\n",
    "\n",
    "Possible values of **Target** column -\n",
    "1, 2, 3, 4\n",
    "\n",
    "\n",
    "\n",
    "\n"
   ]
  },
  {
   "cell_type": "markdown",
   "id": "a74b8fad",
   "metadata": {
    "papermill": {
     "duration": 0.046915,
     "end_time": "2022-01-31T10:01:18.975636",
     "exception": false,
     "start_time": "2022-01-31T10:01:18.928721",
     "status": "completed"
    },
    "tags": []
   },
   "source": [
    "## Understand the type of data"
   ]
  },
  {
   "cell_type": "code",
   "execution_count": 4,
   "id": "e7948f38",
   "metadata": {
    "execution": {
     "iopub.execute_input": "2022-01-31T10:01:19.072192Z",
     "iopub.status.busy": "2022-01-31T10:01:19.071639Z",
     "iopub.status.idle": "2022-01-31T10:01:19.489461Z",
     "shell.execute_reply": "2022-01-31T10:01:19.489967Z",
     "shell.execute_reply.started": "2022-01-31T09:57:51.121621Z"
    },
    "papermill": {
     "duration": 0.468308,
     "end_time": "2022-01-31T10:01:19.490138",
     "exception": false,
     "start_time": "2022-01-31T10:01:19.021830",
     "status": "completed"
    },
    "tags": []
   },
   "outputs": [
    {
     "data": {
      "text/html": [
       "<div>\n",
       "<style scoped>\n",
       "    .dataframe tbody tr th:only-of-type {\n",
       "        vertical-align: middle;\n",
       "    }\n",
       "\n",
       "    .dataframe tbody tr th {\n",
       "        vertical-align: top;\n",
       "    }\n",
       "\n",
       "    .dataframe thead th {\n",
       "        text-align: right;\n",
       "    }\n",
       "</style>\n",
       "<table border=\"1\" class=\"dataframe\">\n",
       "  <thead>\n",
       "    <tr style=\"text-align: right;\">\n",
       "      <th></th>\n",
       "      <th>Name of Col</th>\n",
       "      <th>Num of Null</th>\n",
       "      <th>Dtype</th>\n",
       "      <th>N_Unique</th>\n",
       "    </tr>\n",
       "  </thead>\n",
       "  <tbody>\n",
       "    <tr>\n",
       "      <th>0</th>\n",
       "      <td>Id</td>\n",
       "      <td>0</td>\n",
       "      <td>object</td>\n",
       "      <td>9557</td>\n",
       "    </tr>\n",
       "    <tr>\n",
       "      <th>1</th>\n",
       "      <td>v2a1</td>\n",
       "      <td>6860</td>\n",
       "      <td>float64</td>\n",
       "      <td>157</td>\n",
       "    </tr>\n",
       "    <tr>\n",
       "      <th>2</th>\n",
       "      <td>hacdor</td>\n",
       "      <td>0</td>\n",
       "      <td>int64</td>\n",
       "      <td>2</td>\n",
       "    </tr>\n",
       "    <tr>\n",
       "      <th>3</th>\n",
       "      <td>rooms</td>\n",
       "      <td>0</td>\n",
       "      <td>int64</td>\n",
       "      <td>11</td>\n",
       "    </tr>\n",
       "    <tr>\n",
       "      <th>4</th>\n",
       "      <td>hacapo</td>\n",
       "      <td>0</td>\n",
       "      <td>int64</td>\n",
       "      <td>2</td>\n",
       "    </tr>\n",
       "    <tr>\n",
       "      <th>...</th>\n",
       "      <td>...</td>\n",
       "      <td>...</td>\n",
       "      <td>...</td>\n",
       "      <td>...</td>\n",
       "    </tr>\n",
       "    <tr>\n",
       "      <th>138</th>\n",
       "      <td>SQBovercrowding</td>\n",
       "      <td>0</td>\n",
       "      <td>float64</td>\n",
       "      <td>38</td>\n",
       "    </tr>\n",
       "    <tr>\n",
       "      <th>139</th>\n",
       "      <td>SQBdependency</td>\n",
       "      <td>0</td>\n",
       "      <td>float64</td>\n",
       "      <td>31</td>\n",
       "    </tr>\n",
       "    <tr>\n",
       "      <th>140</th>\n",
       "      <td>SQBmeaned</td>\n",
       "      <td>5</td>\n",
       "      <td>float64</td>\n",
       "      <td>155</td>\n",
       "    </tr>\n",
       "    <tr>\n",
       "      <th>141</th>\n",
       "      <td>agesq</td>\n",
       "      <td>0</td>\n",
       "      <td>int64</td>\n",
       "      <td>97</td>\n",
       "    </tr>\n",
       "    <tr>\n",
       "      <th>142</th>\n",
       "      <td>Target</td>\n",
       "      <td>0</td>\n",
       "      <td>int64</td>\n",
       "      <td>4</td>\n",
       "    </tr>\n",
       "  </tbody>\n",
       "</table>\n",
       "<p>143 rows × 4 columns</p>\n",
       "</div>"
      ],
      "text/plain": [
       "         Name of Col Num of Null    Dtype N_Unique\n",
       "0                 Id           0   object     9557\n",
       "1               v2a1        6860  float64      157\n",
       "2             hacdor           0    int64        2\n",
       "3              rooms           0    int64       11\n",
       "4             hacapo           0    int64        2\n",
       "..               ...         ...      ...      ...\n",
       "138  SQBovercrowding           0  float64       38\n",
       "139    SQBdependency           0  float64       31\n",
       "140        SQBmeaned           5  float64      155\n",
       "141            agesq           0    int64       97\n",
       "142           Target           0    int64        4\n",
       "\n",
       "[143 rows x 4 columns]"
      ]
     },
     "execution_count": 4,
     "metadata": {},
     "output_type": "execute_result"
    }
   ],
   "source": [
    "data_train_info = pd.DataFrame(columns=['Name of Col', 'Num of Null', 'Dtype', 'N_Unique'])\n",
    "\n",
    "for i in range(0, len(data_train.columns)):\n",
    "    data_train_info.loc[i] = [data_train.columns[i],\n",
    "                        data_train[data_train.columns[i]].isnull().sum(),\n",
    "                        data_train[data_train.columns[i]].dtypes,\n",
    "                        data_train[data_train.columns[i]].nunique()] \n",
    "data_train_info\n",
    "\n",
    "#data_train_info.iloc([\"Num of Null\" != 0])"
   ]
  },
  {
   "cell_type": "markdown",
   "id": "236351eb",
   "metadata": {
    "papermill": {
     "duration": 0.073007,
     "end_time": "2022-01-31T10:01:19.637233",
     "exception": false,
     "start_time": "2022-01-31T10:01:19.564226",
     "status": "completed"
    },
    "tags": []
   },
   "source": [
    "## Check if there are any biases in your dataset"
   ]
  },
  {
   "cell_type": "code",
   "execution_count": 5,
   "id": "873fb19a",
   "metadata": {
    "execution": {
     "iopub.execute_input": "2022-01-31T10:01:19.789457Z",
     "iopub.status.busy": "2022-01-31T10:01:19.788774Z",
     "iopub.status.idle": "2022-01-31T10:01:19.795569Z",
     "shell.execute_reply": "2022-01-31T10:01:19.796078Z",
     "shell.execute_reply.started": "2022-01-31T09:57:51.727472Z"
    },
    "papermill": {
     "duration": 0.084819,
     "end_time": "2022-01-31T10:01:19.796271",
     "exception": false,
     "start_time": "2022-01-31T10:01:19.711452",
     "status": "completed"
    },
    "tags": []
   },
   "outputs": [
    {
     "data": {
      "text/plain": [
       "4    5996\n",
       "2    1597\n",
       "3    1209\n",
       "1     755\n",
       "Name: Target, dtype: int64"
      ]
     },
     "execution_count": 5,
     "metadata": {},
     "output_type": "execute_result"
    }
   ],
   "source": [
    "#count of unique rows in Target column\n",
    "data_train[\"Target\"].value_counts()"
   ]
  },
  {
   "cell_type": "code",
   "execution_count": 6,
   "id": "03562d94",
   "metadata": {
    "execution": {
     "iopub.execute_input": "2022-01-31T10:01:19.947899Z",
     "iopub.status.busy": "2022-01-31T10:01:19.947230Z",
     "iopub.status.idle": "2022-01-31T10:01:20.147295Z",
     "shell.execute_reply": "2022-01-31T10:01:20.146710Z",
     "shell.execute_reply.started": "2022-01-31T09:57:51.737729Z"
    },
    "papermill": {
     "duration": 0.276668,
     "end_time": "2022-01-31T10:01:20.147455",
     "exception": false,
     "start_time": "2022-01-31T10:01:19.870787",
     "status": "completed"
    },
    "tags": []
   },
   "outputs": [
    {
     "data": {
      "text/plain": [
       "<AxesSubplot:>"
      ]
     },
     "execution_count": 6,
     "metadata": {},
     "output_type": "execute_result"
    },
    {
     "data": {
      "text/plain": [
       "Text(0.5, 0, 'Target Values')"
      ]
     },
     "execution_count": 6,
     "metadata": {},
     "output_type": "execute_result"
    },
    {
     "data": {
      "text/plain": [
       "Text(0, 0.5, 'Count of Households')"
      ]
     },
     "execution_count": 6,
     "metadata": {},
     "output_type": "execute_result"
    },
    {
     "data": {
      "text/plain": [
       "Text(0.5, 1.0, 'Target Column Spread')"
      ]
     },
     "execution_count": 6,
     "metadata": {},
     "output_type": "execute_result"
    },
    {
     "data": {
      "image/png": "[encoded data removed]",
      "text/plain": [
       "<Figure size 432x288 with 1 Axes>"
      ]
     },
     "metadata": {},
     "output_type": "display_data"
    }
   ],
   "source": [
    "data_train['Target'].value_counts().plot.bar(width = 0.4, color = 'c', edgecolor = 'k', linewidth = 1)\n",
    "plt.xlabel(\"Target Values\")\n",
    "plt.ylabel(\"Count of Households\")\n",
    "plt.title(\"Target Column Spread\")\n",
    "plt.show()"
   ]
  },
  {
   "cell_type": "markdown",
   "id": "a54d4960",
   "metadata": {
    "papermill": {
     "duration": 0.076651,
     "end_time": "2022-01-31T10:01:20.301206",
     "exception": false,
     "start_time": "2022-01-31T10:01:20.224555",
     "status": "completed"
    },
    "tags": []
   },
   "source": [
    "From the above output, we infer that -\n",
    "\n",
    "As the extreme poverty is the smallest count, hence the dataset is not biased."
   ]
  },
  {
   "cell_type": "markdown",
   "id": "35bd99d2",
   "metadata": {
    "papermill": {
     "duration": 0.076341,
     "end_time": "2022-01-31T10:01:20.454936",
     "exception": false,
     "start_time": "2022-01-31T10:01:20.378595",
     "status": "completed"
    },
    "tags": []
   },
   "source": [
    "##  Check whether all members of the house have the same poverty level."
   ]
  },
  {
   "cell_type": "code",
   "execution_count": 7,
   "id": "e5ea67fd",
   "metadata": {
    "execution": {
     "iopub.execute_input": "2022-01-31T10:01:20.615435Z",
     "iopub.status.busy": "2022-01-31T10:01:20.614743Z",
     "iopub.status.idle": "2022-01-31T10:01:20.788252Z",
     "shell.execute_reply": "2022-01-31T10:01:20.787597Z",
     "shell.execute_reply.started": "2022-01-31T09:57:51.969905Z"
    },
    "papermill": {
     "duration": 0.256041,
     "end_time": "2022-01-31T10:01:20.788437",
     "exception": false,
     "start_time": "2022-01-31T10:01:20.532396",
     "status": "completed"
    },
    "tags": []
   },
   "outputs": [
    {
     "name": "stdout",
     "output_type": "stream",
     "text": [
      "There are 85 households where all the family members of the house do not have same poverty level.\n"
     ]
    }
   ],
   "source": [
    "#households with same poverty level\n",
    "poverty_equal = data_train.groupby('idhogar')['Target'].apply(lambda X: X.nunique() == 1) \n",
    "#households with un-equal poverty level\n",
    "poverty_nequal = poverty_equal[poverty_equal != True] \n",
    "print(\"There are {} households where all the family members of the house do not have same poverty level.\" .format(len(poverty_nequal)))"
   ]
  },
  {
   "cell_type": "markdown",
   "id": "aab27e47",
   "metadata": {
    "papermill": {
     "duration": 0.076696,
     "end_time": "2022-01-31T10:01:20.943434",
     "exception": false,
     "start_time": "2022-01-31T10:01:20.866738",
     "status": "completed"
    },
    "tags": []
   },
   "source": [
    "## Check if there is a house without a family head."
   ]
  },
  {
   "cell_type": "code",
   "execution_count": 8,
   "id": "afc8160c",
   "metadata": {
    "execution": {
     "iopub.execute_input": "2022-01-31T10:01:21.102137Z",
     "iopub.status.busy": "2022-01-31T10:01:21.101640Z",
     "iopub.status.idle": "2022-01-31T10:01:21.112799Z",
     "shell.execute_reply": "2022-01-31T10:01:21.113207Z",
     "shell.execute_reply.started": "2022-01-31T09:57:52.215540Z"
    },
    "papermill": {
     "duration": 0.091968,
     "end_time": "2022-01-31T10:01:21.113374",
     "exception": false,
     "start_time": "2022-01-31T10:01:21.021406",
     "status": "completed"
    },
    "tags": []
   },
   "outputs": [],
   "source": [
    "#households with head\n",
    "household_head = data_train.groupby('idhogar')['parentesco1'].sum()"
   ]
  },
  {
   "cell_type": "code",
   "execution_count": 9,
   "id": "bccbfb27",
   "metadata": {
    "execution": {
     "iopub.execute_input": "2022-01-31T10:01:21.219900Z",
     "iopub.status.busy": "2022-01-31T10:01:21.219373Z",
     "iopub.status.idle": "2022-01-31T10:01:21.222827Z",
     "shell.execute_reply": "2022-01-31T10:01:21.223238Z",
     "shell.execute_reply.started": "2022-01-31T09:57:52.232224Z"
    },
    "papermill": {
     "duration": 0.060757,
     "end_time": "2022-01-31T10:01:21.223420",
     "exception": false,
     "start_time": "2022-01-31T10:01:21.162663",
     "status": "completed"
    },
    "tags": []
   },
   "outputs": [
    {
     "data": {
      "text/plain": [
       "15"
      ]
     },
     "execution_count": 9,
     "metadata": {},
     "output_type": "execute_result"
    }
   ],
   "source": [
    "#households without head\n",
    "household_without_head = data_train.loc[data_train['idhogar'].isin(household_head[household_head == 0].index), :]\n",
    "household_without_head[\"idhogar\"].nunique()"
   ]
  },
  {
   "cell_type": "markdown",
   "id": "86325148",
   "metadata": {
    "papermill": {
     "duration": 0.049459,
     "end_time": "2022-01-31T10:01:21.323111",
     "exception": false,
     "start_time": "2022-01-31T10:01:21.273652",
     "status": "completed"
    },
    "tags": []
   },
   "source": [
    "There are 15 houses without a Family Head"
   ]
  },
  {
   "cell_type": "markdown",
   "id": "ccff461e",
   "metadata": {
    "papermill": {
     "duration": 0.050339,
     "end_time": "2022-01-31T10:01:21.423063",
     "exception": false,
     "start_time": "2022-01-31T10:01:21.372724",
     "status": "completed"
    },
    "tags": []
   },
   "source": [
    "## Set poverty level of the members and the head of the house within a family."
   ]
  },
  {
   "cell_type": "markdown",
   "id": "d33a1195",
   "metadata": {
    "papermill": {
     "duration": 0.049591,
     "end_time": "2022-01-31T10:01:21.522498",
     "exception": false,
     "start_time": "2022-01-31T10:01:21.472907",
     "status": "completed"
    },
    "tags": []
   },
   "source": [
    "As we found out that there are 15 households without a head. \n",
    "First lets check if members of these households have same Target/Povertylevel or different."
   ]
  },
  {
   "cell_type": "code",
   "execution_count": 10,
   "id": "2bbd4cfa",
   "metadata": {
    "execution": {
     "iopub.execute_input": "2022-01-31T10:01:21.625837Z",
     "iopub.status.busy": "2022-01-31T10:01:21.625283Z",
     "iopub.status.idle": "2022-01-31T10:01:21.632603Z",
     "shell.execute_reply": "2022-01-31T10:01:21.633132Z",
     "shell.execute_reply.started": "2022-01-31T09:57:52.247328Z"
    },
    "papermill": {
     "duration": 0.060824,
     "end_time": "2022-01-31T10:01:21.633327",
     "exception": false,
     "start_time": "2022-01-31T10:01:21.572503",
     "status": "completed"
    },
    "tags": []
   },
   "outputs": [
    {
     "name": "stdout",
     "output_type": "stream",
     "text": [
      "0 households without head have different PovertyLevel/Target Value.\n"
     ]
    }
   ],
   "source": [
    "#Finding the Households without head and poverty level(Target Value) is different\n",
    "\n",
    "household_without_head_equal = household_without_head.groupby('idhogar')['Target'].apply(lambda X: X.nunique() == 1) \n",
    "print(\"{} households without head have different PovertyLevel/Target Value.\" .format(sum(household_without_head_equal == False)))"
   ]
  },
  {
   "cell_type": "markdown",
   "id": "762352ad",
   "metadata": {
    "papermill": {
     "duration": 0.049765,
     "end_time": "2022-01-31T10:01:21.735454",
     "exception": false,
     "start_time": "2022-01-31T10:01:21.685689",
     "status": "completed"
    },
    "tags": []
   },
   "source": [
    "Hence, we need to focus on only the households with head for setting the poverty levels."
   ]
  },
  {
   "cell_type": "code",
   "execution_count": 11,
   "id": "76a2c216",
   "metadata": {
    "execution": {
     "iopub.execute_input": "2022-01-31T10:01:21.843068Z",
     "iopub.status.busy": "2022-01-31T10:01:21.842544Z",
     "iopub.status.idle": "2022-01-31T10:01:22.028712Z",
     "shell.execute_reply": "2022-01-31T10:01:22.029101Z",
     "shell.execute_reply.started": "2022-01-31T09:57:52.262132Z"
    },
    "papermill": {
     "duration": 0.241687,
     "end_time": "2022-01-31T10:01:22.029249",
     "exception": false,
     "start_time": "2022-01-31T10:01:21.787562",
     "status": "completed"
    },
    "tags": []
   },
   "outputs": [],
   "source": [
    "#Now setting poverty level of the members same as the head of the house within a family.\n",
    "#Iterating through each household\n",
    "\n",
    "for household in poverty_nequal.index:\n",
    "    #Finding the correct label(label of house head)\n",
    "    head_target = int(data_train[(data_train['idhogar'] == household) & (data_train['parentesco1'] == 1.0)] ['Target'])\n",
    "    #Setting the correct label for family members\n",
    "    data_train.loc[data_train['idhogar'] == household, 'Target'] = head_target"
   ]
  },
  {
   "cell_type": "markdown",
   "id": "fd3392d1",
   "metadata": {
    "papermill": {
     "duration": 0.050685,
     "end_time": "2022-01-31T10:01:22.131532",
     "exception": false,
     "start_time": "2022-01-31T10:01:22.080847",
     "status": "completed"
    },
    "tags": []
   },
   "source": [
    "##  Count how many null values are existing in columns."
   ]
  },
  {
   "cell_type": "code",
   "execution_count": 12,
   "id": "59b53fb4",
   "metadata": {
    "execution": {
     "iopub.execute_input": "2022-01-31T10:01:22.241708Z",
     "iopub.status.busy": "2022-01-31T10:01:22.241129Z",
     "iopub.status.idle": "2022-01-31T10:01:22.643004Z",
     "shell.execute_reply": "2022-01-31T10:01:22.642599Z",
     "shell.execute_reply.started": "2022-01-31T09:57:52.700467Z"
    },
    "papermill": {
     "duration": 0.460522,
     "end_time": "2022-01-31T10:01:22.643135",
     "exception": false,
     "start_time": "2022-01-31T10:01:22.182613",
     "status": "completed"
    },
    "tags": []
   },
   "outputs": [
    {
     "data": {
      "text/html": [
       "<div>\n",
       "<style scoped>\n",
       "    .dataframe tbody tr th:only-of-type {\n",
       "        vertical-align: middle;\n",
       "    }\n",
       "\n",
       "    .dataframe tbody tr th {\n",
       "        vertical-align: top;\n",
       "    }\n",
       "\n",
       "    .dataframe thead th {\n",
       "        text-align: right;\n",
       "    }\n",
       "</style>\n",
       "<table border=\"1\" class=\"dataframe\">\n",
       "  <thead>\n",
       "    <tr style=\"text-align: right;\">\n",
       "      <th></th>\n",
       "      <th>Name of Col</th>\n",
       "      <th>Num of Null</th>\n",
       "      <th>Dtype</th>\n",
       "      <th>N_Unique</th>\n",
       "    </tr>\n",
       "  </thead>\n",
       "  <tbody>\n",
       "    <tr>\n",
       "      <th>0</th>\n",
       "      <td>Id</td>\n",
       "      <td>0</td>\n",
       "      <td>object</td>\n",
       "      <td>9557</td>\n",
       "    </tr>\n",
       "    <tr>\n",
       "      <th>1</th>\n",
       "      <td>v2a1</td>\n",
       "      <td>6860</td>\n",
       "      <td>float64</td>\n",
       "      <td>157</td>\n",
       "    </tr>\n",
       "    <tr>\n",
       "      <th>2</th>\n",
       "      <td>hacdor</td>\n",
       "      <td>0</td>\n",
       "      <td>int64</td>\n",
       "      <td>2</td>\n",
       "    </tr>\n",
       "    <tr>\n",
       "      <th>3</th>\n",
       "      <td>rooms</td>\n",
       "      <td>0</td>\n",
       "      <td>int64</td>\n",
       "      <td>11</td>\n",
       "    </tr>\n",
       "    <tr>\n",
       "      <th>4</th>\n",
       "      <td>hacapo</td>\n",
       "      <td>0</td>\n",
       "      <td>int64</td>\n",
       "      <td>2</td>\n",
       "    </tr>\n",
       "    <tr>\n",
       "      <th>...</th>\n",
       "      <td>...</td>\n",
       "      <td>...</td>\n",
       "      <td>...</td>\n",
       "      <td>...</td>\n",
       "    </tr>\n",
       "    <tr>\n",
       "      <th>138</th>\n",
       "      <td>SQBovercrowding</td>\n",
       "      <td>0</td>\n",
       "      <td>float64</td>\n",
       "      <td>38</td>\n",
       "    </tr>\n",
       "    <tr>\n",
       "      <th>139</th>\n",
       "      <td>SQBdependency</td>\n",
       "      <td>0</td>\n",
       "      <td>float64</td>\n",
       "      <td>31</td>\n",
       "    </tr>\n",
       "    <tr>\n",
       "      <th>140</th>\n",
       "      <td>SQBmeaned</td>\n",
       "      <td>5</td>\n",
       "      <td>float64</td>\n",
       "      <td>155</td>\n",
       "    </tr>\n",
       "    <tr>\n",
       "      <th>141</th>\n",
       "      <td>agesq</td>\n",
       "      <td>0</td>\n",
       "      <td>int64</td>\n",
       "      <td>97</td>\n",
       "    </tr>\n",
       "    <tr>\n",
       "      <th>142</th>\n",
       "      <td>Target</td>\n",
       "      <td>0</td>\n",
       "      <td>int64</td>\n",
       "      <td>4</td>\n",
       "    </tr>\n",
       "  </tbody>\n",
       "</table>\n",
       "<p>143 rows × 4 columns</p>\n",
       "</div>"
      ],
      "text/plain": [
       "         Name of Col Num of Null    Dtype N_Unique\n",
       "0                 Id           0   object     9557\n",
       "1               v2a1        6860  float64      157\n",
       "2             hacdor           0    int64        2\n",
       "3              rooms           0    int64       11\n",
       "4             hacapo           0    int64        2\n",
       "..               ...         ...      ...      ...\n",
       "138  SQBovercrowding           0  float64       38\n",
       "139    SQBdependency           0  float64       31\n",
       "140        SQBmeaned           5  float64      155\n",
       "141            agesq           0    int64       97\n",
       "142           Target           0    int64        4\n",
       "\n",
       "[143 rows x 4 columns]"
      ]
     },
     "execution_count": 12,
     "metadata": {},
     "output_type": "execute_result"
    }
   ],
   "source": [
    "data_train_info = pd.DataFrame(columns=['Name of Col', 'Num of Null', 'Dtype', 'N_Unique'])\n",
    "\n",
    "for i in range(0, len(data_train.columns)):\n",
    "    data_train_info.loc[i] = [data_train.columns[i],\n",
    "                        data_train[data_train.columns[i]].isnull().sum(),\n",
    "                        data_train[data_train.columns[i]].dtypes,\n",
    "                        data_train[data_train.columns[i]].nunique()] \n",
    "data_train_info"
   ]
  },
  {
   "cell_type": "code",
   "execution_count": 13,
   "id": "058ff585",
   "metadata": {
    "execution": {
     "iopub.execute_input": "2022-01-31T10:01:22.753303Z",
     "iopub.status.busy": "2022-01-31T10:01:22.752799Z",
     "iopub.status.idle": "2022-01-31T10:01:22.758518Z",
     "shell.execute_reply": "2022-01-31T10:01:22.758954Z",
     "shell.execute_reply.started": "2022-01-31T09:57:53.296699Z"
    },
    "papermill": {
     "duration": 0.065022,
     "end_time": "2022-01-31T10:01:22.759099",
     "exception": false,
     "start_time": "2022-01-31T10:01:22.694077",
     "status": "completed"
    },
    "tags": []
   },
   "outputs": [
    {
     "data": {
      "text/html": [
       "<div>\n",
       "<style scoped>\n",
       "    .dataframe tbody tr th:only-of-type {\n",
       "        vertical-align: middle;\n",
       "    }\n",
       "\n",
       "    .dataframe tbody tr th {\n",
       "        vertical-align: top;\n",
       "    }\n",
       "\n",
       "    .dataframe thead th {\n",
       "        text-align: right;\n",
       "    }\n",
       "</style>\n",
       "<table border=\"1\" class=\"dataframe\">\n",
       "  <thead>\n",
       "    <tr style=\"text-align: right;\">\n",
       "      <th></th>\n",
       "      <th>Name of Col</th>\n",
       "      <th>Num of Null</th>\n",
       "      <th>Dtype</th>\n",
       "      <th>N_Unique</th>\n",
       "    </tr>\n",
       "  </thead>\n",
       "  <tbody>\n",
       "    <tr>\n",
       "      <th>1</th>\n",
       "      <td>v2a1</td>\n",
       "      <td>6860</td>\n",
       "      <td>float64</td>\n",
       "      <td>157</td>\n",
       "    </tr>\n",
       "    <tr>\n",
       "      <th>8</th>\n",
       "      <td>v18q1</td>\n",
       "      <td>7342</td>\n",
       "      <td>float64</td>\n",
       "      <td>6</td>\n",
       "    </tr>\n",
       "    <tr>\n",
       "      <th>21</th>\n",
       "      <td>rez_esc</td>\n",
       "      <td>7928</td>\n",
       "      <td>float64</td>\n",
       "      <td>6</td>\n",
       "    </tr>\n",
       "    <tr>\n",
       "      <th>103</th>\n",
       "      <td>meaneduc</td>\n",
       "      <td>5</td>\n",
       "      <td>float64</td>\n",
       "      <td>155</td>\n",
       "    </tr>\n",
       "    <tr>\n",
       "      <th>140</th>\n",
       "      <td>SQBmeaned</td>\n",
       "      <td>5</td>\n",
       "      <td>float64</td>\n",
       "      <td>155</td>\n",
       "    </tr>\n",
       "  </tbody>\n",
       "</table>\n",
       "</div>"
      ],
      "text/plain": [
       "    Name of Col Num of Null    Dtype N_Unique\n",
       "1          v2a1        6860  float64      157\n",
       "8         v18q1        7342  float64        6\n",
       "21      rez_esc        7928  float64        6\n",
       "103    meaneduc           5  float64      155\n",
       "140   SQBmeaned           5  float64      155"
      ]
     },
     "execution_count": 13,
     "metadata": {},
     "output_type": "execute_result"
    }
   ],
   "source": [
    "data_train_info[data_train_info[\"Num of Null\"] > 0]"
   ]
  },
  {
   "cell_type": "code",
   "execution_count": 14,
   "id": "056821d4",
   "metadata": {
    "execution": {
     "iopub.execute_input": "2022-01-31T10:01:22.862560Z",
     "iopub.status.busy": "2022-01-31T10:01:22.862068Z",
     "iopub.status.idle": "2022-01-31T10:01:22.868730Z",
     "shell.execute_reply": "2022-01-31T10:01:22.868246Z",
     "shell.execute_reply.started": "2022-01-31T09:57:53.312914Z"
    },
    "papermill": {
     "duration": 0.059727,
     "end_time": "2022-01-31T10:01:22.868850",
     "exception": false,
     "start_time": "2022-01-31T10:01:22.809123",
     "status": "completed"
    },
    "tags": []
   },
   "outputs": [
    {
     "data": {
      "text/plain": [
       "22140"
      ]
     },
     "execution_count": 14,
     "metadata": {},
     "output_type": "execute_result"
    }
   ],
   "source": [
    "data_train_info[\"Num of Null\"].sum()"
   ]
  },
  {
   "cell_type": "markdown",
   "id": "eccc7529",
   "metadata": {
    "papermill": {
     "duration": 0.051303,
     "end_time": "2022-01-31T10:01:22.971724",
     "exception": false,
     "start_time": "2022-01-31T10:01:22.920421",
     "status": "completed"
    },
    "tags": []
   },
   "source": [
    "Looking at the different datatypes and null values, we infer that -\n",
    "\n",
    "1. No Null values for integer datatype features.\n",
    "2. No Null values for object datatype features.\n",
    "3. For float64 datatype below features has Null values -\n",
    "   - v2a1 - 6860 values\n",
    "   - v18q1 - 7342 values\n",
    "   - rez_esc - 7928 values\n",
    "   - meaneduc - 5 values\n",
    "   - SQBmeaned - 5 values \n",
    "\n",
    "4. There are total 22140 Null values in the train dataset.\n"
   ]
  },
  {
   "cell_type": "markdown",
   "id": "0e6fc187",
   "metadata": {
    "papermill": {
     "duration": 0.051756,
     "end_time": "2022-01-31T10:01:23.074854",
     "exception": false,
     "start_time": "2022-01-31T10:01:23.023098",
     "status": "completed"
    },
    "tags": []
   },
   "source": [
    "##  Remove null value rows of the target variable."
   ]
  },
  {
   "cell_type": "code",
   "execution_count": 15,
   "id": "5567a20a",
   "metadata": {
    "execution": {
     "iopub.execute_input": "2022-01-31T10:01:23.194146Z",
     "iopub.status.busy": "2022-01-31T10:01:23.189314Z",
     "iopub.status.idle": "2022-01-31T10:01:23.198921Z",
     "shell.execute_reply": "2022-01-31T10:01:23.199333Z",
     "shell.execute_reply.started": "2022-01-31T09:57:53.328908Z"
    },
    "papermill": {
     "duration": 0.071912,
     "end_time": "2022-01-31T10:01:23.199519",
     "exception": false,
     "start_time": "2022-01-31T10:01:23.127607",
     "status": "completed"
    },
    "tags": []
   },
   "outputs": [
    {
     "data": {
      "text/html": [
       "<div>\n",
       "<style scoped>\n",
       "    .dataframe tbody tr th:only-of-type {\n",
       "        vertical-align: middle;\n",
       "    }\n",
       "\n",
       "    .dataframe tbody tr th {\n",
       "        vertical-align: top;\n",
       "    }\n",
       "\n",
       "    .dataframe thead th {\n",
       "        text-align: right;\n",
       "    }\n",
       "</style>\n",
       "<table border=\"1\" class=\"dataframe\">\n",
       "  <thead>\n",
       "    <tr style=\"text-align: right;\">\n",
       "      <th></th>\n",
       "      <th>Id</th>\n",
       "      <th>v2a1</th>\n",
       "      <th>hacdor</th>\n",
       "      <th>rooms</th>\n",
       "      <th>hacapo</th>\n",
       "      <th>v14a</th>\n",
       "      <th>refrig</th>\n",
       "      <th>v18q</th>\n",
       "      <th>v18q1</th>\n",
       "      <th>r4h1</th>\n",
       "      <th>...</th>\n",
       "      <th>SQBescolari</th>\n",
       "      <th>SQBage</th>\n",
       "      <th>SQBhogar_total</th>\n",
       "      <th>SQBedjefe</th>\n",
       "      <th>SQBhogar_nin</th>\n",
       "      <th>SQBovercrowding</th>\n",
       "      <th>SQBdependency</th>\n",
       "      <th>SQBmeaned</th>\n",
       "      <th>agesq</th>\n",
       "      <th>Target</th>\n",
       "    </tr>\n",
       "  </thead>\n",
       "  <tbody>\n",
       "  </tbody>\n",
       "</table>\n",
       "<p>0 rows × 143 columns</p>\n",
       "</div>"
      ],
      "text/plain": [
       "Empty DataFrame\n",
       "Columns: [Id, v2a1, hacdor, rooms, hacapo, v14a, refrig, v18q, v18q1, r4h1, r4h2, r4h3, r4m1, r4m2, r4m3, r4t1, r4t2, r4t3, tamhog, tamviv, escolari, rez_esc, hhsize, paredblolad, paredzocalo, paredpreb, pareddes, paredmad, paredzinc, paredfibras, paredother, pisomoscer, pisocemento, pisoother, pisonatur, pisonotiene, pisomadera, techozinc, techoentrepiso, techocane, techootro, cielorazo, abastaguadentro, abastaguafuera, abastaguano, public, planpri, noelec, coopele, sanitario1, sanitario2, sanitario3, sanitario5, sanitario6, energcocinar1, energcocinar2, energcocinar3, energcocinar4, elimbasu1, elimbasu2, elimbasu3, elimbasu4, elimbasu5, elimbasu6, epared1, epared2, epared3, etecho1, etecho2, etecho3, eviv1, eviv2, eviv3, dis, male, female, estadocivil1, estadocivil2, estadocivil3, estadocivil4, estadocivil5, estadocivil6, estadocivil7, parentesco1, parentesco2, parentesco3, parentesco4, parentesco5, parentesco6, parentesco7, parentesco8, parentesco9, parentesco10, parentesco11, parentesco12, idhogar, hogar_nin, hogar_adul, hogar_mayor, hogar_total, ...]\n",
       "Index: []\n",
       "\n",
       "[0 rows x 143 columns]"
      ]
     },
     "execution_count": 15,
     "metadata": {},
     "output_type": "execute_result"
    }
   ],
   "source": [
    "data_train[data_train[\"Target\"] == 0]"
   ]
  },
  {
   "cell_type": "markdown",
   "id": "0ac6c23b",
   "metadata": {
    "papermill": {
     "duration": 0.053,
     "end_time": "2022-01-31T10:01:23.305304",
     "exception": false,
     "start_time": "2022-01-31T10:01:23.252304",
     "status": "completed"
    },
    "tags": []
   },
   "source": [
    "Looking at the **Target** column, we observed that there are no null values in Target variable "
   ]
  },
  {
   "cell_type": "markdown",
   "id": "080b640f",
   "metadata": {
    "papermill": {
     "duration": 0.051069,
     "end_time": "2022-01-31T10:01:23.409097",
     "exception": false,
     "start_time": "2022-01-31T10:01:23.358028",
     "status": "completed"
    },
    "tags": []
   },
   "source": [
    "## Data Cleaning\n"
   ]
  },
  {
   "cell_type": "markdown",
   "id": "d8d62604",
   "metadata": {
    "papermill": {
     "duration": 0.051229,
     "end_time": "2022-01-31T10:01:23.515542",
     "exception": false,
     "start_time": "2022-01-31T10:01:23.464313",
     "status": "completed"
    },
    "tags": []
   },
   "source": [
    "### Treating Mixed Values "
   ]
  },
  {
   "cell_type": "code",
   "execution_count": 16,
   "id": "4d40271e",
   "metadata": {
    "execution": {
     "iopub.execute_input": "2022-01-31T10:01:23.621312Z",
     "iopub.status.busy": "2022-01-31T10:01:23.620572Z",
     "iopub.status.idle": "2022-01-31T10:01:23.631851Z",
     "shell.execute_reply": "2022-01-31T10:01:23.632294Z",
     "shell.execute_reply.started": "2022-01-31T09:57:53.352527Z"
    },
    "papermill": {
     "duration": 0.06595,
     "end_time": "2022-01-31T10:01:23.632486",
     "exception": false,
     "start_time": "2022-01-31T10:01:23.566536",
     "status": "completed"
    },
    "tags": []
   },
   "outputs": [
    {
     "data": {
      "text/html": [
       "<div>\n",
       "<style scoped>\n",
       "    .dataframe tbody tr th:only-of-type {\n",
       "        vertical-align: middle;\n",
       "    }\n",
       "\n",
       "    .dataframe tbody tr th {\n",
       "        vertical-align: top;\n",
       "    }\n",
       "\n",
       "    .dataframe thead th {\n",
       "        text-align: right;\n",
       "    }\n",
       "</style>\n",
       "<table border=\"1\" class=\"dataframe\">\n",
       "  <thead>\n",
       "    <tr style=\"text-align: right;\">\n",
       "      <th></th>\n",
       "      <th>dependency</th>\n",
       "      <th>edjefe</th>\n",
       "      <th>edjefa</th>\n",
       "    </tr>\n",
       "  </thead>\n",
       "  <tbody>\n",
       "    <tr>\n",
       "      <th>0</th>\n",
       "      <td>no</td>\n",
       "      <td>10</td>\n",
       "      <td>no</td>\n",
       "    </tr>\n",
       "    <tr>\n",
       "      <th>1</th>\n",
       "      <td>8</td>\n",
       "      <td>12</td>\n",
       "      <td>no</td>\n",
       "    </tr>\n",
       "    <tr>\n",
       "      <th>2</th>\n",
       "      <td>8</td>\n",
       "      <td>no</td>\n",
       "      <td>11</td>\n",
       "    </tr>\n",
       "    <tr>\n",
       "      <th>3</th>\n",
       "      <td>yes</td>\n",
       "      <td>11</td>\n",
       "      <td>no</td>\n",
       "    </tr>\n",
       "    <tr>\n",
       "      <th>4</th>\n",
       "      <td>yes</td>\n",
       "      <td>11</td>\n",
       "      <td>no</td>\n",
       "    </tr>\n",
       "  </tbody>\n",
       "</table>\n",
       "</div>"
      ],
      "text/plain": [
       "  dependency edjefe edjefa\n",
       "0         no     10     no\n",
       "1          8     12     no\n",
       "2          8     no     11\n",
       "3        yes     11     no\n",
       "4        yes     11     no"
      ]
     },
     "execution_count": 16,
     "metadata": {},
     "output_type": "execute_result"
    }
   ],
   "source": [
    "# Analysing the top 5 values of dependency, edjefe and dejefa columns \n",
    "data_train.loc[:, [\"dependency\", \"edjefe\", \"edjefa\"]].head()"
   ]
  },
  {
   "cell_type": "markdown",
   "id": "b5f7a4d9",
   "metadata": {
    "papermill": {
     "duration": 0.051534,
     "end_time": "2022-01-31T10:01:23.736826",
     "exception": false,
     "start_time": "2022-01-31T10:01:23.685292",
     "status": "completed"
    },
    "tags": []
   },
   "source": [
    "Below listed features have Mixed values-\n",
    "\n",
    "**dependency**, Dependency rate, calculated = (number of members of the household younger than 19 or older than 64)/(number of member of household between 19 and 64)\n",
    "\n",
    "**edjefe**, years of education of male head of household, based on the interaction of escolari (years of education), head of household and gender, yes=1 and no=0\n",
    "\n",
    "**edjefa**, years of education of female head of household, based on the interaction ofescolari (years of education), head of household and gender, yes=1 and no=0\n",
    "\n",
    "For these features, \n",
    "\"yes\" = 1\n",
    "\"no\" = 0 \n",
    "\n",
    "Lets correct these features using a map and coverting these to float"
   ]
  },
  {
   "cell_type": "code",
   "execution_count": 17,
   "id": "e885f479",
   "metadata": {
    "execution": {
     "iopub.execute_input": "2022-01-31T10:01:23.857936Z",
     "iopub.status.busy": "2022-01-31T10:01:23.857213Z",
     "iopub.status.idle": "2022-01-31T10:01:23.898957Z",
     "shell.execute_reply": "2022-01-31T10:01:23.898501Z",
     "shell.execute_reply.started": "2022-01-31T09:57:53.369789Z"
    },
    "papermill": {
     "duration": 0.109642,
     "end_time": "2022-01-31T10:01:23.899105",
     "exception": false,
     "start_time": "2022-01-31T10:01:23.789463",
     "status": "completed"
    },
    "tags": []
   },
   "outputs": [
    {
     "data": {
      "text/html": [
       "<div>\n",
       "<style scoped>\n",
       "    .dataframe tbody tr th:only-of-type {\n",
       "        vertical-align: middle;\n",
       "    }\n",
       "\n",
       "    .dataframe tbody tr th {\n",
       "        vertical-align: top;\n",
       "    }\n",
       "\n",
       "    .dataframe thead th {\n",
       "        text-align: right;\n",
       "    }\n",
       "</style>\n",
       "<table border=\"1\" class=\"dataframe\">\n",
       "  <thead>\n",
       "    <tr style=\"text-align: right;\">\n",
       "      <th></th>\n",
       "      <th>dependency</th>\n",
       "      <th>edjefe</th>\n",
       "      <th>edjefa</th>\n",
       "    </tr>\n",
       "  </thead>\n",
       "  <tbody>\n",
       "    <tr>\n",
       "      <th>0</th>\n",
       "      <td>0.0</td>\n",
       "      <td>10.0</td>\n",
       "      <td>0.0</td>\n",
       "    </tr>\n",
       "    <tr>\n",
       "      <th>1</th>\n",
       "      <td>8.0</td>\n",
       "      <td>12.0</td>\n",
       "      <td>0.0</td>\n",
       "    </tr>\n",
       "    <tr>\n",
       "      <th>2</th>\n",
       "      <td>8.0</td>\n",
       "      <td>0.0</td>\n",
       "      <td>11.0</td>\n",
       "    </tr>\n",
       "    <tr>\n",
       "      <th>3</th>\n",
       "      <td>1.0</td>\n",
       "      <td>11.0</td>\n",
       "      <td>0.0</td>\n",
       "    </tr>\n",
       "    <tr>\n",
       "      <th>4</th>\n",
       "      <td>1.0</td>\n",
       "      <td>11.0</td>\n",
       "      <td>0.0</td>\n",
       "    </tr>\n",
       "  </tbody>\n",
       "</table>\n",
       "</div>"
      ],
      "text/plain": [
       "   dependency  edjefe  edjefa\n",
       "0         0.0    10.0     0.0\n",
       "1         8.0    12.0     0.0\n",
       "2         8.0     0.0    11.0\n",
       "3         1.0    11.0     0.0\n",
       "4         1.0    11.0     0.0"
      ]
     },
     "execution_count": 17,
     "metadata": {},
     "output_type": "execute_result"
    }
   ],
   "source": [
    "mapping = {'yes' :1, 'no' :0}\n",
    "\n",
    "for data in [data_train, data_test]:\n",
    "    data['dependency'] = data['dependency'].replace(mapping).astype(float)\n",
    "    data['edjefe']=data['edjefe'].replace(mapping).astype(float)\n",
    "    data['edjefa']=data['edjefa'].replace(mapping).astype(float)\n",
    "# head output of treated features\n",
    "data_train.loc[:, [\"dependency\", \"edjefe\", \"edjefa\"]].head()"
   ]
  },
  {
   "cell_type": "markdown",
   "id": "4d3c1c64",
   "metadata": {
    "papermill": {
     "duration": 0.051718,
     "end_time": "2022-01-31T10:01:24.003694",
     "exception": false,
     "start_time": "2022-01-31T10:01:23.951976",
     "status": "completed"
    },
    "tags": []
   },
   "source": [
    "As identified in cell 13, below listed features have NaN values- \n",
    "\n",
    " - v2a1 - Monthly rent payment - 6860 values\n",
    "\n",
    " - v18q1 - number of tablets household owns - 7342 values\n",
    "\n",
    " - rez_esc -Years behind in school - 7928 values\n",
    "\n",
    " - meaneduc - average years of education for adults (18+) - 5 values\n",
    "\n",
    " - SQBmeaned - square of the mean years of education of adults (>=18) in the household - 5 values"
   ]
  },
  {
   "cell_type": "markdown",
   "id": "ff0d2da5",
   "metadata": {
    "papermill": {
     "duration": 0.052037,
     "end_time": "2022-01-31T10:01:24.108217",
     "exception": false,
     "start_time": "2022-01-31T10:01:24.056180",
     "status": "completed"
    },
    "tags": []
   },
   "source": [
    "**---------------------------------------------------------------------------------------------------------------------------**\n",
    "\n",
    "Lets fix v2a1 feature first. Features related to v2a1 (monthly rent payment) -\n",
    "\n",
    "tipovivi1, =1 own and fully paid house\n",
    "\n",
    "tipovivi2, =1 own, paying in installments\n",
    "\n",
    "tipovivi3, =1 rented\n",
    "\n",
    "tipovivi4, =1 precarious\n",
    "\n",
    "tipovivi5, =1 other(assigned, borrowed)\n",
    "\n"
   ]
  },
  {
   "cell_type": "code",
   "execution_count": 18,
   "id": "146fa7a9",
   "metadata": {
    "execution": {
     "iopub.execute_input": "2022-01-31T10:01:24.218224Z",
     "iopub.status.busy": "2022-01-31T10:01:24.217744Z",
     "iopub.status.idle": "2022-01-31T10:01:24.229799Z",
     "shell.execute_reply": "2022-01-31T10:01:24.230210Z",
     "shell.execute_reply.started": "2022-01-31T09:57:53.437237Z"
    },
    "papermill": {
     "duration": 0.069674,
     "end_time": "2022-01-31T10:01:24.230381",
     "exception": false,
     "start_time": "2022-01-31T10:01:24.160707",
     "status": "completed"
    },
    "tags": []
   },
   "outputs": [
    {
     "data": {
      "text/html": [
       "<div>\n",
       "<style scoped>\n",
       "    .dataframe tbody tr th:only-of-type {\n",
       "        vertical-align: middle;\n",
       "    }\n",
       "\n",
       "    .dataframe tbody tr th {\n",
       "        vertical-align: top;\n",
       "    }\n",
       "\n",
       "    .dataframe thead th {\n",
       "        text-align: right;\n",
       "    }\n",
       "</style>\n",
       "<table border=\"1\" class=\"dataframe\">\n",
       "  <thead>\n",
       "    <tr style=\"text-align: right;\">\n",
       "      <th></th>\n",
       "      <th>v2a1</th>\n",
       "      <th>tipovivi1</th>\n",
       "      <th>tipovivi2</th>\n",
       "      <th>tipovivi3</th>\n",
       "      <th>tipovivi4</th>\n",
       "      <th>tipovivi5</th>\n",
       "    </tr>\n",
       "  </thead>\n",
       "  <tbody>\n",
       "    <tr>\n",
       "      <th>2</th>\n",
       "      <td>NaN</td>\n",
       "      <td>1</td>\n",
       "      <td>0</td>\n",
       "      <td>0</td>\n",
       "      <td>0</td>\n",
       "      <td>0</td>\n",
       "    </tr>\n",
       "    <tr>\n",
       "      <th>13</th>\n",
       "      <td>NaN</td>\n",
       "      <td>1</td>\n",
       "      <td>0</td>\n",
       "      <td>0</td>\n",
       "      <td>0</td>\n",
       "      <td>0</td>\n",
       "    </tr>\n",
       "    <tr>\n",
       "      <th>14</th>\n",
       "      <td>NaN</td>\n",
       "      <td>1</td>\n",
       "      <td>0</td>\n",
       "      <td>0</td>\n",
       "      <td>0</td>\n",
       "      <td>0</td>\n",
       "    </tr>\n",
       "    <tr>\n",
       "      <th>26</th>\n",
       "      <td>NaN</td>\n",
       "      <td>1</td>\n",
       "      <td>0</td>\n",
       "      <td>0</td>\n",
       "      <td>0</td>\n",
       "      <td>0</td>\n",
       "    </tr>\n",
       "    <tr>\n",
       "      <th>32</th>\n",
       "      <td>NaN</td>\n",
       "      <td>1</td>\n",
       "      <td>0</td>\n",
       "      <td>0</td>\n",
       "      <td>0</td>\n",
       "      <td>0</td>\n",
       "    </tr>\n",
       "  </tbody>\n",
       "</table>\n",
       "</div>"
      ],
      "text/plain": [
       "    v2a1  tipovivi1  tipovivi2  tipovivi3  tipovivi4  tipovivi5\n",
       "2    NaN          1          0          0          0          0\n",
       "13   NaN          1          0          0          0          0\n",
       "14   NaN          1          0          0          0          0\n",
       "26   NaN          1          0          0          0          0\n",
       "32   NaN          1          0          0          0          0"
      ]
     },
     "execution_count": 18,
     "metadata": {},
     "output_type": "execute_result"
    }
   ],
   "source": [
    "data = data_train[data_train['v2a1'].isnull()].head()\n",
    "data.loc[:, [\"v2a1\",\"tipovivi1\",\"tipovivi2\",\"tipovivi3\",\"tipovivi4\",\"tipovivi5\"]]"
   ]
  },
  {
   "cell_type": "code",
   "execution_count": 19,
   "id": "435d6769",
   "metadata": {
    "execution": {
     "iopub.execute_input": "2022-01-31T10:01:24.338320Z",
     "iopub.status.busy": "2022-01-31T10:01:24.337815Z",
     "iopub.status.idle": "2022-01-31T10:01:24.506700Z",
     "shell.execute_reply": "2022-01-31T10:01:24.507149Z",
     "shell.execute_reply.started": "2022-01-31T09:57:53.455690Z"
    },
    "papermill": {
     "duration": 0.224456,
     "end_time": "2022-01-31T10:01:24.507299",
     "exception": false,
     "start_time": "2022-01-31T10:01:24.282843",
     "status": "completed"
    },
    "tags": []
   },
   "outputs": [
    {
     "data": {
      "text/plain": [
       "<AxesSubplot:>"
      ]
     },
     "execution_count": 19,
     "metadata": {},
     "output_type": "execute_result"
    },
    {
     "data": {
      "text/plain": [
       "([<matplotlib.axis.XTick at 0x7f3468552290>,\n",
       "  <matplotlib.axis.XTick at 0x7f3466dee5d0>,\n",
       "  <matplotlib.axis.XTick at 0x7f3466f8b190>,\n",
       "  <matplotlib.axis.XTick at 0x7f3466dd1590>,\n",
       "  <matplotlib.axis.XTick at 0x7f3466efbdd0>],\n",
       " [Text(0, 0, 'Owns and Paid Off'),\n",
       "  Text(1, 0, 'Owns and Paying'),\n",
       "  Text(2, 0, 'Rented'),\n",
       "  Text(3, 0, 'Precarious'),\n",
       "  Text(4, 0, 'Other')])"
      ]
     },
     "execution_count": 19,
     "metadata": {},
     "output_type": "execute_result"
    },
    {
     "data": {
      "text/plain": [
       "Text(0.5, 1.0, 'Home-ownership status for Households Missing Rent Payments')"
      ]
     },
     "execution_count": 19,
     "metadata": {},
     "output_type": "execute_result"
    },
    {
     "data": {
      "image/png": "[encoded data removed]",
      "text/plain": [
       "<Figure size 360x216 with 1 Axes>"
      ]
     },
     "metadata": {},
     "output_type": "display_data"
    }
   ],
   "source": [
    "#Features indicating home-ownership\n",
    "\n",
    "own_feature = [x for x in data_train if x.startswith('tipo')]\n",
    "\n",
    "#Plotting the home-ownership features for NaN v2a1 rows \n",
    "\n",
    "data_train.loc[data_train['v2a1'].isnull(), own_feature].sum().plot.bar(figsize = (5,3), color ='c', edgecolor ='black', linewidth =2)\n",
    "\n",
    "plt.xticks([0,1,2,3,4],['Owns and Paid Off', 'Owns and Paying', 'Rented', 'Precarious', 'Other'],rotation =20, size=8)\n",
    "plt.title('Home-ownership status for Households Missing Rent Payments', size=12)"
   ]
  },
  {
   "cell_type": "markdown",
   "id": "7faaec69",
   "metadata": {
    "papermill": {
     "duration": 0.054703,
     "end_time": "2022-01-31T10:01:24.616795",
     "exception": false,
     "start_time": "2022-01-31T10:01:24.562092",
     "status": "completed"
    },
    "tags": []
   },
   "source": [
    "From the above counts we infer that, if the house is owned and paid off, then the house rent should be 0. \n",
    "Lets add 0 for all the **NaN** values."
   ]
  },
  {
   "cell_type": "code",
   "execution_count": 20,
   "id": "7b7bf0a7",
   "metadata": {
    "execution": {
     "iopub.execute_input": "2022-01-31T10:01:24.729083Z",
     "iopub.status.busy": "2022-01-31T10:01:24.728572Z",
     "iopub.status.idle": "2022-01-31T10:01:24.735163Z",
     "shell.execute_reply": "2022-01-31T10:01:24.735574Z",
     "shell.execute_reply.started": "2022-01-31T09:57:53.652825Z"
    },
    "papermill": {
     "duration": 0.064213,
     "end_time": "2022-01-31T10:01:24.735717",
     "exception": false,
     "start_time": "2022-01-31T10:01:24.671504",
     "status": "completed"
    },
    "tags": []
   },
   "outputs": [
    {
     "data": {
      "text/plain": [
       "v2a1    0\n",
       "dtype: int64"
      ]
     },
     "execution_count": 20,
     "metadata": {},
     "output_type": "execute_result"
    }
   ],
   "source": [
    "for data in [data_train, data_test]:\n",
    "    data['v2a1'].fillna(value=0, inplace=True)\n",
    "    \n",
    "data_train[['v2a1']].isnull().sum()"
   ]
  },
  {
   "cell_type": "markdown",
   "id": "4048bc47",
   "metadata": {
    "papermill": {
     "duration": 0.053314,
     "end_time": "2022-01-31T10:01:24.842612",
     "exception": false,
     "start_time": "2022-01-31T10:01:24.789298",
     "status": "completed"
    },
    "tags": []
   },
   "source": [
    "Now, lets fix v18q1 (7342 NaN values) -  number of tablets household owns\n",
    "\n",
    "Lets analyse few rows with v18q1 feature as NaN, to understand the related features. \n",
    "Since this is an household level feature,\n",
    "therefore we consider the rows for head of the household.\n"
   ]
  },
  {
   "cell_type": "code",
   "execution_count": 21,
   "id": "36b3f8d1",
   "metadata": {
    "execution": {
     "iopub.execute_input": "2022-01-31T10:01:24.955903Z",
     "iopub.status.busy": "2022-01-31T10:01:24.955401Z",
     "iopub.status.idle": "2022-01-31T10:01:24.964785Z",
     "shell.execute_reply": "2022-01-31T10:01:24.965187Z",
     "shell.execute_reply.started": "2022-01-31T09:57:53.667637Z"
    },
    "papermill": {
     "duration": 0.069235,
     "end_time": "2022-01-31T10:01:24.965388",
     "exception": false,
     "start_time": "2022-01-31T10:01:24.896153",
     "status": "completed"
    },
    "tags": []
   },
   "outputs": [
    {
     "data": {
      "text/html": [
       "<div>\n",
       "<style scoped>\n",
       "    .dataframe tbody tr th:only-of-type {\n",
       "        vertical-align: middle;\n",
       "    }\n",
       "\n",
       "    .dataframe tbody tr th {\n",
       "        vertical-align: top;\n",
       "    }\n",
       "\n",
       "    .dataframe thead th {\n",
       "        text-align: right;\n",
       "    }\n",
       "</style>\n",
       "<table border=\"1\" class=\"dataframe\">\n",
       "  <thead>\n",
       "    <tr style=\"text-align: right;\">\n",
       "      <th></th>\n",
       "      <th>v18q</th>\n",
       "      <th>v18q1</th>\n",
       "    </tr>\n",
       "  </thead>\n",
       "  <tbody>\n",
       "    <tr>\n",
       "      <th>0</th>\n",
       "      <td>0</td>\n",
       "      <td>NaN</td>\n",
       "    </tr>\n",
       "    <tr>\n",
       "      <th>1</th>\n",
       "      <td>1</td>\n",
       "      <td>1.0</td>\n",
       "    </tr>\n",
       "    <tr>\n",
       "      <th>2</th>\n",
       "      <td>0</td>\n",
       "      <td>NaN</td>\n",
       "    </tr>\n",
       "    <tr>\n",
       "      <th>5</th>\n",
       "      <td>1</td>\n",
       "      <td>1.0</td>\n",
       "    </tr>\n",
       "    <tr>\n",
       "      <th>8</th>\n",
       "      <td>0</td>\n",
       "      <td>NaN</td>\n",
       "    </tr>\n",
       "  </tbody>\n",
       "</table>\n",
       "</div>"
      ],
      "text/plain": [
       "   v18q  v18q1\n",
       "0     0    NaN\n",
       "1     1    1.0\n",
       "2     0    NaN\n",
       "5     1    1.0\n",
       "8     0    NaN"
      ]
     },
     "execution_count": 21,
     "metadata": {},
     "output_type": "execute_result"
    }
   ],
   "source": [
    "data_train.loc[data_train['parentesco1'] ==1,[\"v18q\",\"v18q1\"]].head()\n"
   ]
  },
  {
   "cell_type": "code",
   "execution_count": 22,
   "id": "f70901db",
   "metadata": {
    "execution": {
     "iopub.execute_input": "2022-01-31T10:01:25.077709Z",
     "iopub.status.busy": "2022-01-31T10:01:25.077191Z",
     "iopub.status.idle": "2022-01-31T10:01:25.084082Z",
     "shell.execute_reply": "2022-01-31T10:01:25.084539Z",
     "shell.execute_reply.started": "2022-01-31T09:57:53.685364Z"
    },
    "papermill": {
     "duration": 0.064358,
     "end_time": "2022-01-31T10:01:25.084681",
     "exception": false,
     "start_time": "2022-01-31T10:01:25.020323",
     "status": "completed"
    },
    "tags": []
   },
   "outputs": [
    {
     "data": {
      "text/plain": [
       "v18q1\n",
       "1.0    1586\n",
       "2.0     444\n",
       "3.0     129\n",
       "4.0      37\n",
       "5.0      13\n",
       "6.0       6\n",
       "Name: v18q1, dtype: int64"
      ]
     },
     "execution_count": 22,
     "metadata": {},
     "output_type": "execute_result"
    }
   ],
   "source": [
    "data_train.groupby(by=\"v18q1\")['v18q1'].count()"
   ]
  },
  {
   "cell_type": "markdown",
   "id": "a7a88f3f",
   "metadata": {
    "papermill": {
     "duration": 0.054963,
     "end_time": "2022-01-31T10:01:25.194936",
     "exception": false,
     "start_time": "2022-01-31T10:01:25.139973",
     "status": "completed"
    },
    "tags": []
   },
   "source": [
    "Looking at above data, we infer that when **owns a tablet** column is 0, then there will be no number of tablets owned by household.\n",
    "\n",
    "So, lets add 0 for all the NaN values."
   ]
  },
  {
   "cell_type": "code",
   "execution_count": 23,
   "id": "84af7e6e",
   "metadata": {
    "execution": {
     "iopub.execute_input": "2022-01-31T10:01:25.310152Z",
     "iopub.status.busy": "2022-01-31T10:01:25.309636Z",
     "iopub.status.idle": "2022-01-31T10:01:25.313518Z",
     "shell.execute_reply": "2022-01-31T10:01:25.313976Z",
     "shell.execute_reply.started": "2022-01-31T09:57:53.698600Z"
    },
    "papermill": {
     "duration": 0.064299,
     "end_time": "2022-01-31T10:01:25.314174",
     "exception": false,
     "start_time": "2022-01-31T10:01:25.249875",
     "status": "completed"
    },
    "tags": []
   },
   "outputs": [
    {
     "data": {
      "text/plain": [
       "0"
      ]
     },
     "execution_count": 23,
     "metadata": {},
     "output_type": "execute_result"
    }
   ],
   "source": [
    "for df in [data_train, data_test]:\n",
    "    df['v18q1'].fillna(value=0, inplace=True)\n",
    "    \n",
    "data_train['v18q1'].isnull().sum()"
   ]
  },
  {
   "cell_type": "markdown",
   "id": "3677fc27",
   "metadata": {
    "papermill": {
     "duration": 0.056245,
     "end_time": "2022-01-31T10:01:25.425831",
     "exception": false,
     "start_time": "2022-01-31T10:01:25.369586",
     "status": "completed"
    },
    "tags": []
   },
   "source": [
    "Now lets treat rez_esc(Years behind in school) feature - 7928 NaN values"
   ]
  },
  {
   "cell_type": "code",
   "execution_count": 24,
   "id": "99b53613",
   "metadata": {
    "execution": {
     "iopub.execute_input": "2022-01-31T10:01:25.541288Z",
     "iopub.status.busy": "2022-01-31T10:01:25.540753Z",
     "iopub.status.idle": "2022-01-31T10:01:25.553158Z",
     "shell.execute_reply": "2022-01-31T10:01:25.553598Z",
     "shell.execute_reply.started": "2022-01-31T09:57:53.711432Z"
    },
    "papermill": {
     "duration": 0.072077,
     "end_time": "2022-01-31T10:01:25.553746",
     "exception": false,
     "start_time": "2022-01-31T10:01:25.481669",
     "status": "completed"
    },
    "tags": []
   },
   "outputs": [
    {
     "data": {
      "text/plain": [
       "count    1629.000000\n",
       "mean       12.258441\n",
       "std         3.218325\n",
       "min         7.000000\n",
       "25%         9.000000\n",
       "50%        12.000000\n",
       "75%        15.000000\n",
       "max        17.000000\n",
       "Name: age, dtype: float64"
      ]
     },
     "execution_count": 24,
     "metadata": {},
     "output_type": "execute_result"
    }
   ],
   "source": [
    "#Checking related features of rez_sec when the value is not Null\n",
    "data_train[data_train['rez_esc'].notnull()]['age'].describe()"
   ]
  },
  {
   "cell_type": "markdown",
   "id": "e41f2467",
   "metadata": {
    "papermill": {
     "duration": 0.055493,
     "end_time": "2022-01-31T10:01:25.664704",
     "exception": false,
     "start_time": "2022-01-31T10:01:25.609211",
     "status": "completed"
    },
    "tags": []
   },
   "source": [
    "From the above, we infer that the **Years behind in school** has some value for age value between 7 and 17 Years.\n",
    "Lets check if there are any NaN values in 7 to 17 Years of age."
   ]
  },
  {
   "cell_type": "code",
   "execution_count": 25,
   "id": "6101a09f",
   "metadata": {
    "execution": {
     "iopub.execute_input": "2022-01-31T10:01:25.781461Z",
     "iopub.status.busy": "2022-01-31T10:01:25.780910Z",
     "iopub.status.idle": "2022-01-31T10:01:25.798968Z",
     "shell.execute_reply": "2022-01-31T10:01:25.799402Z",
     "shell.execute_reply.started": "2022-01-31T09:57:53.732010Z"
    },
    "papermill": {
     "duration": 0.077072,
     "end_time": "2022-01-31T10:01:25.799552",
     "exception": false,
     "start_time": "2022-01-31T10:01:25.722480",
     "status": "completed"
    },
    "tags": []
   },
   "outputs": [
    {
     "data": {
      "text/html": [
       "<div>\n",
       "<style scoped>\n",
       "    .dataframe tbody tr th:only-of-type {\n",
       "        vertical-align: middle;\n",
       "    }\n",
       "\n",
       "    .dataframe tbody tr th {\n",
       "        vertical-align: top;\n",
       "    }\n",
       "\n",
       "    .dataframe thead th {\n",
       "        text-align: right;\n",
       "    }\n",
       "</style>\n",
       "<table border=\"1\" class=\"dataframe\">\n",
       "  <thead>\n",
       "    <tr style=\"text-align: right;\">\n",
       "      <th></th>\n",
       "      <th>Id</th>\n",
       "      <th>v2a1</th>\n",
       "      <th>hacdor</th>\n",
       "      <th>rooms</th>\n",
       "      <th>hacapo</th>\n",
       "      <th>v14a</th>\n",
       "      <th>refrig</th>\n",
       "      <th>v18q</th>\n",
       "      <th>v18q1</th>\n",
       "      <th>r4h1</th>\n",
       "      <th>...</th>\n",
       "      <th>SQBescolari</th>\n",
       "      <th>SQBage</th>\n",
       "      <th>SQBhogar_total</th>\n",
       "      <th>SQBedjefe</th>\n",
       "      <th>SQBhogar_nin</th>\n",
       "      <th>SQBovercrowding</th>\n",
       "      <th>SQBdependency</th>\n",
       "      <th>SQBmeaned</th>\n",
       "      <th>agesq</th>\n",
       "      <th>Target</th>\n",
       "    </tr>\n",
       "  </thead>\n",
       "  <tbody>\n",
       "    <tr>\n",
       "      <th>2514</th>\n",
       "      <td>ID_f012e4242</td>\n",
       "      <td>160000.0</td>\n",
       "      <td>0</td>\n",
       "      <td>6</td>\n",
       "      <td>0</td>\n",
       "      <td>1</td>\n",
       "      <td>1</td>\n",
       "      <td>1</td>\n",
       "      <td>1.0</td>\n",
       "      <td>0</td>\n",
       "      <td>...</td>\n",
       "      <td>0</td>\n",
       "      <td>100</td>\n",
       "      <td>9</td>\n",
       "      <td>121</td>\n",
       "      <td>1</td>\n",
       "      <td>2.25</td>\n",
       "      <td>0.25</td>\n",
       "      <td>182.25</td>\n",
       "      <td>100</td>\n",
       "      <td>4</td>\n",
       "    </tr>\n",
       "  </tbody>\n",
       "</table>\n",
       "<p>1 rows × 143 columns</p>\n",
       "</div>"
      ],
      "text/plain": [
       "                Id      v2a1  hacdor  rooms  hacapo  v14a  refrig  v18q  \\\n",
       "2514  ID_f012e4242  160000.0       0      6       0     1       1     1   \n",
       "\n",
       "      v18q1  r4h1  ...  SQBescolari  SQBage  SQBhogar_total  SQBedjefe  \\\n",
       "2514    1.0     0  ...            0     100               9        121   \n",
       "\n",
       "      SQBhogar_nin  SQBovercrowding  SQBdependency  SQBmeaned  agesq  Target  \n",
       "2514             1             2.25           0.25     182.25    100       4  \n",
       "\n",
       "[1 rows x 143 columns]"
      ]
     },
     "execution_count": 25,
     "metadata": {},
     "output_type": "execute_result"
    }
   ],
   "source": [
    "data_train[data_train['rez_esc'].isna() & ((data_train['age'] > 7) & (data_train['age'] < 17))]"
   ]
  },
  {
   "cell_type": "markdown",
   "id": "339b829a",
   "metadata": {
    "papermill": {
     "duration": 0.054895,
     "end_time": "2022-01-31T10:01:25.910650",
     "exception": false,
     "start_time": "2022-01-31T10:01:25.855755",
     "status": "completed"
    },
    "tags": []
   },
   "source": [
    "There is only one value as NaN in age group 7 to 17 years.\n",
    "Hence, now we can fill the NaN values with 0."
   ]
  },
  {
   "cell_type": "code",
   "execution_count": 26,
   "id": "ef3369d9",
   "metadata": {
    "execution": {
     "iopub.execute_input": "2022-01-31T10:01:26.024050Z",
     "iopub.status.busy": "2022-01-31T10:01:26.023602Z",
     "iopub.status.idle": "2022-01-31T10:01:26.029358Z",
     "shell.execute_reply": "2022-01-31T10:01:26.029816Z",
     "shell.execute_reply.started": "2022-01-31T09:57:53.760769Z"
    },
    "papermill": {
     "duration": 0.063963,
     "end_time": "2022-01-31T10:01:26.029953",
     "exception": false,
     "start_time": "2022-01-31T10:01:25.965990",
     "status": "completed"
    },
    "tags": []
   },
   "outputs": [
    {
     "data": {
      "text/plain": [
       "0"
      ]
     },
     "execution_count": 26,
     "metadata": {},
     "output_type": "execute_result"
    }
   ],
   "source": [
    "for data in [data_train, data_test]:\n",
    "    data['rez_esc'].fillna(value = 0, inplace = True)\n",
    "\n",
    "data_train['rez_esc'].isnull().sum()"
   ]
  },
  {
   "cell_type": "markdown",
   "id": "0d936034",
   "metadata": {
    "papermill": {
     "duration": 0.055485,
     "end_time": "2022-01-31T10:01:26.141313",
     "exception": false,
     "start_time": "2022-01-31T10:01:26.085828",
     "status": "completed"
    },
    "tags": []
   },
   "source": [
    "Lets analyze and treat **meaneduc** - average years of education for adults (18+) - 5 values\n",
    "\n",
    "Few related features -\n",
    "- edjefe, years of education of male head of household, based on the interaction of escolari (years of education), head of household and gender, yes=1 and no=0\n",
    "- edjefa, years of education of female head of household, based on the interaction of escolari (years of education), head of household and gender, yes=1 and no=0\n",
    "- instlevel1, =1 no level of education\n",
    "- instlevel2, =1 incomplete primary\n"
   ]
  },
  {
   "cell_type": "code",
   "execution_count": 27,
   "id": "f19a18b0",
   "metadata": {
    "execution": {
     "iopub.execute_input": "2022-01-31T10:01:26.268659Z",
     "iopub.status.busy": "2022-01-31T10:01:26.255695Z",
     "iopub.status.idle": "2022-01-31T10:01:26.270787Z",
     "shell.execute_reply": "2022-01-31T10:01:26.271284Z",
     "shell.execute_reply.started": "2022-01-31T09:57:53.772108Z"
    },
    "papermill": {
     "duration": 0.074217,
     "end_time": "2022-01-31T10:01:26.271480",
     "exception": false,
     "start_time": "2022-01-31T10:01:26.197263",
     "status": "completed"
    },
    "tags": []
   },
   "outputs": [
    {
     "data": {
      "text/html": [
       "<div>\n",
       "<style scoped>\n",
       "    .dataframe tbody tr th:only-of-type {\n",
       "        vertical-align: middle;\n",
       "    }\n",
       "\n",
       "    .dataframe tbody tr th {\n",
       "        vertical-align: top;\n",
       "    }\n",
       "\n",
       "    .dataframe thead th {\n",
       "        text-align: right;\n",
       "    }\n",
       "</style>\n",
       "<table border=\"1\" class=\"dataframe\">\n",
       "  <thead>\n",
       "    <tr style=\"text-align: right;\">\n",
       "      <th></th>\n",
       "      <th>age</th>\n",
       "      <th>meaneduc</th>\n",
       "      <th>edjefe</th>\n",
       "      <th>edjefa</th>\n",
       "      <th>instlevel1</th>\n",
       "      <th>instlevel2</th>\n",
       "      <th>instlevel3</th>\n",
       "      <th>instlevel4</th>\n",
       "      <th>instlevel5</th>\n",
       "      <th>instlevel6</th>\n",
       "      <th>instlevel7</th>\n",
       "      <th>instlevel8</th>\n",
       "      <th>instlevel9</th>\n",
       "    </tr>\n",
       "  </thead>\n",
       "  <tbody>\n",
       "    <tr>\n",
       "      <th>1291</th>\n",
       "      <td>18</td>\n",
       "      <td>NaN</td>\n",
       "      <td>0.0</td>\n",
       "      <td>10.0</td>\n",
       "      <td>0</td>\n",
       "      <td>0</td>\n",
       "      <td>0</td>\n",
       "      <td>1</td>\n",
       "      <td>0</td>\n",
       "      <td>0</td>\n",
       "      <td>0</td>\n",
       "      <td>0</td>\n",
       "      <td>0</td>\n",
       "    </tr>\n",
       "    <tr>\n",
       "      <th>1840</th>\n",
       "      <td>18</td>\n",
       "      <td>NaN</td>\n",
       "      <td>4.0</td>\n",
       "      <td>0.0</td>\n",
       "      <td>0</td>\n",
       "      <td>0</td>\n",
       "      <td>1</td>\n",
       "      <td>0</td>\n",
       "      <td>0</td>\n",
       "      <td>0</td>\n",
       "      <td>0</td>\n",
       "      <td>0</td>\n",
       "      <td>0</td>\n",
       "    </tr>\n",
       "    <tr>\n",
       "      <th>1841</th>\n",
       "      <td>18</td>\n",
       "      <td>NaN</td>\n",
       "      <td>4.0</td>\n",
       "      <td>0.0</td>\n",
       "      <td>0</td>\n",
       "      <td>1</td>\n",
       "      <td>0</td>\n",
       "      <td>0</td>\n",
       "      <td>0</td>\n",
       "      <td>0</td>\n",
       "      <td>0</td>\n",
       "      <td>0</td>\n",
       "      <td>0</td>\n",
       "    </tr>\n",
       "    <tr>\n",
       "      <th>2049</th>\n",
       "      <td>19</td>\n",
       "      <td>NaN</td>\n",
       "      <td>12.0</td>\n",
       "      <td>0.0</td>\n",
       "      <td>0</td>\n",
       "      <td>0</td>\n",
       "      <td>0</td>\n",
       "      <td>0</td>\n",
       "      <td>0</td>\n",
       "      <td>0</td>\n",
       "      <td>1</td>\n",
       "      <td>0</td>\n",
       "      <td>0</td>\n",
       "    </tr>\n",
       "    <tr>\n",
       "      <th>2050</th>\n",
       "      <td>19</td>\n",
       "      <td>NaN</td>\n",
       "      <td>12.0</td>\n",
       "      <td>0.0</td>\n",
       "      <td>0</td>\n",
       "      <td>0</td>\n",
       "      <td>0</td>\n",
       "      <td>0</td>\n",
       "      <td>0</td>\n",
       "      <td>0</td>\n",
       "      <td>1</td>\n",
       "      <td>0</td>\n",
       "      <td>0</td>\n",
       "    </tr>\n",
       "  </tbody>\n",
       "</table>\n",
       "</div>"
      ],
      "text/plain": [
       "      age  meaneduc  edjefe  edjefa  instlevel1  instlevel2  instlevel3  \\\n",
       "1291   18       NaN     0.0    10.0           0           0           0   \n",
       "1840   18       NaN     4.0     0.0           0           0           1   \n",
       "1841   18       NaN     4.0     0.0           0           1           0   \n",
       "2049   19       NaN    12.0     0.0           0           0           0   \n",
       "2050   19       NaN    12.0     0.0           0           0           0   \n",
       "\n",
       "      instlevel4  instlevel5  instlevel6  instlevel7  instlevel8  instlevel9  \n",
       "1291           1           0           0           0           0           0  \n",
       "1840           0           0           0           0           0           0  \n",
       "1841           0           0           0           0           0           0  \n",
       "2049           0           0           0           1           0           0  \n",
       "2050           0           0           0           1           0           0  "
      ]
     },
     "execution_count": 27,
     "metadata": {},
     "output_type": "execute_result"
    }
   ],
   "source": [
    "#Lets analyze related features when meaneduc is NaN\n",
    "data_train[data_train['meaneduc'].isnull()].loc[:,['age','meaneduc','edjefe','edjefa','instlevel1','instlevel2','instlevel3','instlevel4','instlevel5','instlevel6','instlevel7','instlevel8','instlevel9']]"
   ]
  },
  {
   "cell_type": "code",
   "execution_count": 28,
   "id": "c8fbfd6e",
   "metadata": {
    "execution": {
     "iopub.execute_input": "2022-01-31T10:01:26.453417Z",
     "iopub.status.busy": "2022-01-31T10:01:26.445536Z",
     "iopub.status.idle": "2022-01-31T10:01:26.461380Z",
     "shell.execute_reply": "2022-01-31T10:01:26.461967Z",
     "shell.execute_reply.started": "2022-01-31T09:57:53.802761Z"
    },
    "papermill": {
     "duration": 0.101068,
     "end_time": "2022-01-31T10:01:26.462145",
     "exception": false,
     "start_time": "2022-01-31T10:01:26.361077",
     "status": "completed"
    },
    "scrolled": true,
    "tags": []
   },
   "outputs": [
    {
     "data": {
      "text/html": [
       "<div>\n",
       "<style scoped>\n",
       "    .dataframe tbody tr th:only-of-type {\n",
       "        vertical-align: middle;\n",
       "    }\n",
       "\n",
       "    .dataframe tbody tr th {\n",
       "        vertical-align: top;\n",
       "    }\n",
       "\n",
       "    .dataframe thead th {\n",
       "        text-align: right;\n",
       "    }\n",
       "</style>\n",
       "<table border=\"1\" class=\"dataframe\">\n",
       "  <thead>\n",
       "    <tr style=\"text-align: right;\">\n",
       "      <th></th>\n",
       "      <th>Id</th>\n",
       "      <th>meaneduc</th>\n",
       "      <th>edjefe</th>\n",
       "      <th>edjefa</th>\n",
       "      <th>instlevel1</th>\n",
       "      <th>instlevel2</th>\n",
       "      <th>instlevel3</th>\n",
       "      <th>instlevel4</th>\n",
       "      <th>instlevel5</th>\n",
       "      <th>instlevel6</th>\n",
       "      <th>instlevel7</th>\n",
       "      <th>instlevel8</th>\n",
       "      <th>instlevel9</th>\n",
       "    </tr>\n",
       "  </thead>\n",
       "  <tbody>\n",
       "    <tr>\n",
       "      <th>0</th>\n",
       "      <td>ID_279628684</td>\n",
       "      <td>10.0</td>\n",
       "      <td>10.0</td>\n",
       "      <td>0.0</td>\n",
       "      <td>0</td>\n",
       "      <td>0</td>\n",
       "      <td>0</td>\n",
       "      <td>1</td>\n",
       "      <td>0</td>\n",
       "      <td>0</td>\n",
       "      <td>0</td>\n",
       "      <td>0</td>\n",
       "      <td>0</td>\n",
       "    </tr>\n",
       "    <tr>\n",
       "      <th>1</th>\n",
       "      <td>ID_f29eb3ddd</td>\n",
       "      <td>12.0</td>\n",
       "      <td>12.0</td>\n",
       "      <td>0.0</td>\n",
       "      <td>0</td>\n",
       "      <td>0</td>\n",
       "      <td>0</td>\n",
       "      <td>0</td>\n",
       "      <td>0</td>\n",
       "      <td>0</td>\n",
       "      <td>0</td>\n",
       "      <td>1</td>\n",
       "      <td>0</td>\n",
       "    </tr>\n",
       "    <tr>\n",
       "      <th>2</th>\n",
       "      <td>ID_68de51c94</td>\n",
       "      <td>11.0</td>\n",
       "      <td>0.0</td>\n",
       "      <td>11.0</td>\n",
       "      <td>0</td>\n",
       "      <td>0</td>\n",
       "      <td>0</td>\n",
       "      <td>0</td>\n",
       "      <td>1</td>\n",
       "      <td>0</td>\n",
       "      <td>0</td>\n",
       "      <td>0</td>\n",
       "      <td>0</td>\n",
       "    </tr>\n",
       "    <tr>\n",
       "      <th>3</th>\n",
       "      <td>ID_d671db89c</td>\n",
       "      <td>11.0</td>\n",
       "      <td>11.0</td>\n",
       "      <td>0.0</td>\n",
       "      <td>0</td>\n",
       "      <td>0</td>\n",
       "      <td>0</td>\n",
       "      <td>1</td>\n",
       "      <td>0</td>\n",
       "      <td>0</td>\n",
       "      <td>0</td>\n",
       "      <td>0</td>\n",
       "      <td>0</td>\n",
       "    </tr>\n",
       "    <tr>\n",
       "      <th>4</th>\n",
       "      <td>ID_d56d6f5f5</td>\n",
       "      <td>11.0</td>\n",
       "      <td>11.0</td>\n",
       "      <td>0.0</td>\n",
       "      <td>0</td>\n",
       "      <td>0</td>\n",
       "      <td>0</td>\n",
       "      <td>0</td>\n",
       "      <td>1</td>\n",
       "      <td>0</td>\n",
       "      <td>0</td>\n",
       "      <td>0</td>\n",
       "      <td>0</td>\n",
       "    </tr>\n",
       "  </tbody>\n",
       "</table>\n",
       "</div>"
      ],
      "text/plain": [
       "             Id  meaneduc  edjefe  edjefa  instlevel1  instlevel2  instlevel3  \\\n",
       "0  ID_279628684      10.0    10.0     0.0           0           0           0   \n",
       "1  ID_f29eb3ddd      12.0    12.0     0.0           0           0           0   \n",
       "2  ID_68de51c94      11.0     0.0    11.0           0           0           0   \n",
       "3  ID_d671db89c      11.0    11.0     0.0           0           0           0   \n",
       "4  ID_d56d6f5f5      11.0    11.0     0.0           0           0           0   \n",
       "\n",
       "   instlevel4  instlevel5  instlevel6  instlevel7  instlevel8  instlevel9  \n",
       "0           1           0           0           0           0           0  \n",
       "1           0           0           0           0           1           0  \n",
       "2           0           1           0           0           0           0  \n",
       "3           1           0           0           0           0           0  \n",
       "4           0           1           0           0           0           0  "
      ]
     },
     "execution_count": 28,
     "metadata": {},
     "output_type": "execute_result"
    }
   ],
   "source": [
    "#Lets analyze related features when meaneduc is not NaN\n",
    "data_train.loc[:,['Id','meaneduc','edjefe','edjefa','instlevel1','instlevel2','instlevel3','instlevel4','instlevel5','instlevel6','instlevel7','instlevel8','instlevel9']].head()"
   ]
  },
  {
   "cell_type": "markdown",
   "id": "faba85a2",
   "metadata": {
    "papermill": {
     "duration": 0.056694,
     "end_time": "2022-01-31T10:01:26.586579",
     "exception": false,
     "start_time": "2022-01-31T10:01:26.529885",
     "status": "completed"
    },
    "tags": []
   },
   "source": [
    "From above outputs we infer that -\n",
    "There are five datapoints with **meaneduc** as NaN. And all have 18+ age.\n",
    "The value of **meaneduc** feature is same as 'edjefe' if the person is male and 'edjefa' if the person is female for majority of datapoints.\n",
    "\n",
    "Hence, we treat the 5 NaN values in similar way. \n"
   ]
  },
  {
   "cell_type": "code",
   "execution_count": 29,
   "id": "11df0d17",
   "metadata": {
    "execution": {
     "iopub.execute_input": "2022-01-31T10:01:26.707728Z",
     "iopub.status.busy": "2022-01-31T10:01:26.707173Z",
     "iopub.status.idle": "2022-01-31T10:01:26.711195Z",
     "shell.execute_reply": "2022-01-31T10:01:26.710731Z",
     "shell.execute_reply.started": "2022-01-31T09:57:53.829251Z"
    },
    "papermill": {
     "duration": 0.068232,
     "end_time": "2022-01-31T10:01:26.711307",
     "exception": false,
     "start_time": "2022-01-31T10:01:26.643075",
     "status": "completed"
    },
    "tags": []
   },
   "outputs": [
    {
     "data": {
      "text/plain": [
       "0"
      ]
     },
     "execution_count": 29,
     "metadata": {},
     "output_type": "execute_result"
    }
   ],
   "source": [
    "for data in [data_train,data_test]:\n",
    "    data['meaneduc'].fillna(value = data['edjefe'], inplace = True)\n",
    "    \n",
    "data_train['meaneduc'].isnull().sum()"
   ]
  },
  {
   "cell_type": "markdown",
   "id": "2bc12d48",
   "metadata": {
    "papermill": {
     "duration": 0.057906,
     "end_time": "2022-01-31T10:01:26.828584",
     "exception": false,
     "start_time": "2022-01-31T10:01:26.770678",
     "status": "completed"
    },
    "tags": []
   },
   "source": [
    "Now, finally lets treat SQBmeaned - square of the mean years of education of adults (>=18) in the household - 5 values\n",
    "\n",
    "First understand the dependent features to analyze why the 5 values are NaN -"
   ]
  },
  {
   "cell_type": "code",
   "execution_count": 30,
   "id": "293766db",
   "metadata": {
    "execution": {
     "iopub.execute_input": "2022-01-31T10:01:26.948211Z",
     "iopub.status.busy": "2022-01-31T10:01:26.947694Z",
     "iopub.status.idle": "2022-01-31T10:01:26.959252Z",
     "shell.execute_reply": "2022-01-31T10:01:26.959706Z",
     "shell.execute_reply.started": "2022-01-31T09:57:53.849299Z"
    },
    "papermill": {
     "duration": 0.072974,
     "end_time": "2022-01-31T10:01:26.959857",
     "exception": false,
     "start_time": "2022-01-31T10:01:26.886883",
     "status": "completed"
    },
    "tags": []
   },
   "outputs": [
    {
     "data": {
      "text/html": [
       "<div>\n",
       "<style scoped>\n",
       "    .dataframe tbody tr th:only-of-type {\n",
       "        vertical-align: middle;\n",
       "    }\n",
       "\n",
       "    .dataframe tbody tr th {\n",
       "        vertical-align: top;\n",
       "    }\n",
       "\n",
       "    .dataframe thead th {\n",
       "        text-align: right;\n",
       "    }\n",
       "</style>\n",
       "<table border=\"1\" class=\"dataframe\">\n",
       "  <thead>\n",
       "    <tr style=\"text-align: right;\">\n",
       "      <th></th>\n",
       "      <th>SQBmeaned</th>\n",
       "      <th>meaneduc</th>\n",
       "      <th>edjefe</th>\n",
       "      <th>edjefa</th>\n",
       "      <th>instlevel1</th>\n",
       "      <th>instlevel2</th>\n",
       "    </tr>\n",
       "  </thead>\n",
       "  <tbody>\n",
       "    <tr>\n",
       "      <th>1291</th>\n",
       "      <td>NaN</td>\n",
       "      <td>0.0</td>\n",
       "      <td>0.0</td>\n",
       "      <td>10.0</td>\n",
       "      <td>0</td>\n",
       "      <td>0</td>\n",
       "    </tr>\n",
       "    <tr>\n",
       "      <th>1840</th>\n",
       "      <td>NaN</td>\n",
       "      <td>4.0</td>\n",
       "      <td>4.0</td>\n",
       "      <td>0.0</td>\n",
       "      <td>0</td>\n",
       "      <td>0</td>\n",
       "    </tr>\n",
       "    <tr>\n",
       "      <th>1841</th>\n",
       "      <td>NaN</td>\n",
       "      <td>4.0</td>\n",
       "      <td>4.0</td>\n",
       "      <td>0.0</td>\n",
       "      <td>0</td>\n",
       "      <td>1</td>\n",
       "    </tr>\n",
       "    <tr>\n",
       "      <th>2049</th>\n",
       "      <td>NaN</td>\n",
       "      <td>12.0</td>\n",
       "      <td>12.0</td>\n",
       "      <td>0.0</td>\n",
       "      <td>0</td>\n",
       "      <td>0</td>\n",
       "    </tr>\n",
       "    <tr>\n",
       "      <th>2050</th>\n",
       "      <td>NaN</td>\n",
       "      <td>12.0</td>\n",
       "      <td>12.0</td>\n",
       "      <td>0.0</td>\n",
       "      <td>0</td>\n",
       "      <td>0</td>\n",
       "    </tr>\n",
       "  </tbody>\n",
       "</table>\n",
       "</div>"
      ],
      "text/plain": [
       "      SQBmeaned  meaneduc  edjefe  edjefa  instlevel1  instlevel2\n",
       "1291        NaN       0.0     0.0    10.0           0           0\n",
       "1840        NaN       4.0     4.0     0.0           0           0\n",
       "1841        NaN       4.0     4.0     0.0           0           1\n",
       "2049        NaN      12.0    12.0     0.0           0           0\n",
       "2050        NaN      12.0    12.0     0.0           0           0"
      ]
     },
     "execution_count": 30,
     "metadata": {},
     "output_type": "execute_result"
    }
   ],
   "source": [
    "#Related features when SQBmeaned is NaN\n",
    "data_train[data_train['SQBmeaned'].isnull()].loc[:, ['SQBmeaned','meaneduc','edjefe','edjefa','instlevel1','instlevel2']]"
   ]
  },
  {
   "cell_type": "code",
   "execution_count": 31,
   "id": "43327994",
   "metadata": {
    "execution": {
     "iopub.execute_input": "2022-01-31T10:01:27.084846Z",
     "iopub.status.busy": "2022-01-31T10:01:27.084320Z",
     "iopub.status.idle": "2022-01-31T10:01:27.092854Z",
     "shell.execute_reply": "2022-01-31T10:01:27.093268Z",
     "shell.execute_reply.started": "2022-01-31T09:57:53.867949Z"
    },
    "papermill": {
     "duration": 0.074783,
     "end_time": "2022-01-31T10:01:27.093450",
     "exception": false,
     "start_time": "2022-01-31T10:01:27.018667",
     "status": "completed"
    },
    "tags": []
   },
   "outputs": [
    {
     "data": {
      "text/html": [
       "<div>\n",
       "<style scoped>\n",
       "    .dataframe tbody tr th:only-of-type {\n",
       "        vertical-align: middle;\n",
       "    }\n",
       "\n",
       "    .dataframe tbody tr th {\n",
       "        vertical-align: top;\n",
       "    }\n",
       "\n",
       "    .dataframe thead th {\n",
       "        text-align: right;\n",
       "    }\n",
       "</style>\n",
       "<table border=\"1\" class=\"dataframe\">\n",
       "  <thead>\n",
       "    <tr style=\"text-align: right;\">\n",
       "      <th></th>\n",
       "      <th>SQBmeaned</th>\n",
       "      <th>meaneduc</th>\n",
       "      <th>edjefe</th>\n",
       "      <th>edjefa</th>\n",
       "      <th>instlevel1</th>\n",
       "      <th>instlevel2</th>\n",
       "    </tr>\n",
       "  </thead>\n",
       "  <tbody>\n",
       "    <tr>\n",
       "      <th>0</th>\n",
       "      <td>100.0</td>\n",
       "      <td>10.0</td>\n",
       "      <td>10.0</td>\n",
       "      <td>0.0</td>\n",
       "      <td>0</td>\n",
       "      <td>0</td>\n",
       "    </tr>\n",
       "    <tr>\n",
       "      <th>1</th>\n",
       "      <td>144.0</td>\n",
       "      <td>12.0</td>\n",
       "      <td>12.0</td>\n",
       "      <td>0.0</td>\n",
       "      <td>0</td>\n",
       "      <td>0</td>\n",
       "    </tr>\n",
       "    <tr>\n",
       "      <th>2</th>\n",
       "      <td>121.0</td>\n",
       "      <td>11.0</td>\n",
       "      <td>0.0</td>\n",
       "      <td>11.0</td>\n",
       "      <td>0</td>\n",
       "      <td>0</td>\n",
       "    </tr>\n",
       "    <tr>\n",
       "      <th>3</th>\n",
       "      <td>121.0</td>\n",
       "      <td>11.0</td>\n",
       "      <td>11.0</td>\n",
       "      <td>0.0</td>\n",
       "      <td>0</td>\n",
       "      <td>0</td>\n",
       "    </tr>\n",
       "    <tr>\n",
       "      <th>4</th>\n",
       "      <td>121.0</td>\n",
       "      <td>11.0</td>\n",
       "      <td>11.0</td>\n",
       "      <td>0.0</td>\n",
       "      <td>0</td>\n",
       "      <td>0</td>\n",
       "    </tr>\n",
       "  </tbody>\n",
       "</table>\n",
       "</div>"
      ],
      "text/plain": [
       "   SQBmeaned  meaneduc  edjefe  edjefa  instlevel1  instlevel2\n",
       "0      100.0      10.0    10.0     0.0           0           0\n",
       "1      144.0      12.0    12.0     0.0           0           0\n",
       "2      121.0      11.0     0.0    11.0           0           0\n",
       "3      121.0      11.0    11.0     0.0           0           0\n",
       "4      121.0      11.0    11.0     0.0           0           0"
      ]
     },
     "execution_count": 31,
     "metadata": {},
     "output_type": "execute_result"
    }
   ],
   "source": [
    "#Related features when SQBmeaned is not NaN\n",
    "data_train.loc[:,['SQBmeaned','meaneduc','edjefe','edjefa','instlevel1','instlevel2']].head()"
   ]
  },
  {
   "cell_type": "markdown",
   "id": "44e74203",
   "metadata": {
    "papermill": {
     "duration": 0.058859,
     "end_time": "2022-01-31T10:01:27.211952",
     "exception": false,
     "start_time": "2022-01-31T10:01:27.153093",
     "status": "completed"
    },
    "tags": []
   },
   "source": [
    "As per **SQBmeaned** description and above outputs, it appears that SQBmeaned is square of the **meaneduc**. \n",
    "Hence, treating the NaN accordingly -"
   ]
  },
  {
   "cell_type": "code",
   "execution_count": 32,
   "id": "ecb3e0cd",
   "metadata": {
    "execution": {
     "iopub.execute_input": "2022-01-31T10:01:27.333510Z",
     "iopub.status.busy": "2022-01-31T10:01:27.333007Z",
     "iopub.status.idle": "2022-01-31T10:01:27.339545Z",
     "shell.execute_reply": "2022-01-31T10:01:27.339989Z",
     "shell.execute_reply.started": "2022-01-31T09:57:53.896543Z"
    },
    "papermill": {
     "duration": 0.068562,
     "end_time": "2022-01-31T10:01:27.340124",
     "exception": false,
     "start_time": "2022-01-31T10:01:27.271562",
     "status": "completed"
    },
    "tags": []
   },
   "outputs": [
    {
     "data": {
      "text/plain": [
       "0"
      ]
     },
     "execution_count": 32,
     "metadata": {},
     "output_type": "execute_result"
    }
   ],
   "source": [
    "for data in [data_train,data_test]:\n",
    "    data['SQBmeaned'].fillna(value = data['meaneduc']**2, inplace = True)\n",
    "    \n",
    "data_train['SQBmeaned'].isnull().sum()"
   ]
  },
  {
   "cell_type": "markdown",
   "id": "99db514d",
   "metadata": {
    "papermill": {
     "duration": 0.057327,
     "end_time": "2022-01-31T10:01:27.455007",
     "exception": false,
     "start_time": "2022-01-31T10:01:27.397680",
     "status": "completed"
    },
    "tags": []
   },
   "source": [
    "There are some Squared Variables and we understand that these would not add any value to the classification model.\n",
    "Hence dropping these features -\n",
    "SQBescolari, SQBage, SQBhogar_total, SQBedjefe, SQBhogar_nin, SQBovercrowding, SQBdependency, SQBmeaned, agesq"
   ]
  },
  {
   "cell_type": "code",
   "execution_count": 33,
   "id": "29668aaa",
   "metadata": {
    "execution": {
     "iopub.execute_input": "2022-01-31T10:01:27.576145Z",
     "iopub.status.busy": "2022-01-31T10:01:27.575677Z",
     "iopub.status.idle": "2022-01-31T10:01:27.593978Z",
     "shell.execute_reply": "2022-01-31T10:01:27.593548Z",
     "shell.execute_reply.started": "2022-01-31T09:57:53.910307Z"
    },
    "papermill": {
     "duration": 0.079427,
     "end_time": "2022-01-31T10:01:27.594103",
     "exception": false,
     "start_time": "2022-01-31T10:01:27.514676",
     "status": "completed"
    },
    "tags": []
   },
   "outputs": [
    {
     "name": "stdout",
     "output_type": "stream",
     "text": [
      "(9557, 134) (23856, 133)\n"
     ]
    }
   ],
   "source": [
    "#Dropping squared features\n",
    "cols = ['SQBescolari', 'SQBage', 'SQBhogar_total', 'SQBedjefe', 'SQBhogar_nin', 'SQBovercrowding', 'SQBdependency', 'SQBmeaned', 'agesq']\n",
    "\n",
    "for df in [data_train, data_test]:\n",
    "    df.drop(columns=cols, inplace=True)\n",
    "\n",
    "print(data_train.shape, data_test.shape)"
   ]
  },
  {
   "cell_type": "code",
   "execution_count": 34,
   "id": "952797a5",
   "metadata": {
    "execution": {
     "iopub.execute_input": "2022-01-31T10:01:27.715176Z",
     "iopub.status.busy": "2022-01-31T10:01:27.714674Z",
     "iopub.status.idle": "2022-01-31T10:01:27.721809Z",
     "shell.execute_reply": "2022-01-31T10:01:27.722205Z",
     "shell.execute_reply.started": "2022-01-31T09:57:53.937472Z"
    },
    "papermill": {
     "duration": 0.069811,
     "end_time": "2022-01-31T10:01:27.722372",
     "exception": false,
     "start_time": "2022-01-31T10:01:27.652561",
     "status": "completed"
    },
    "tags": []
   },
   "outputs": [
    {
     "data": {
      "text/plain": [
       "(2973, 134)"
      ]
     },
     "execution_count": 34,
     "metadata": {},
     "output_type": "execute_result"
    }
   ],
   "source": [
    "#Checking for the household redundant variables \n",
    "\n",
    "heads = data_train.loc[data_train['parentesco1'] == 1, :]\n",
    "heads.shape"
   ]
  },
  {
   "cell_type": "code",
   "execution_count": 35,
   "id": "92e5aa5b",
   "metadata": {
    "execution": {
     "iopub.execute_input": "2022-01-31T10:01:27.845466Z",
     "iopub.status.busy": "2022-01-31T10:01:27.844854Z",
     "iopub.status.idle": "2022-01-31T10:01:27.967504Z",
     "shell.execute_reply": "2022-01-31T10:01:27.966993Z",
     "shell.execute_reply.started": "2022-01-31T09:57:53.949349Z"
    },
    "papermill": {
     "duration": 0.185405,
     "end_time": "2022-01-31T10:01:27.967611",
     "exception": false,
     "start_time": "2022-01-31T10:01:27.782206",
     "status": "completed"
    },
    "tags": []
   },
   "outputs": [
    {
     "data": {
      "text/html": [
       "<div>\n",
       "<style scoped>\n",
       "    .dataframe tbody tr th:only-of-type {\n",
       "        vertical-align: middle;\n",
       "    }\n",
       "\n",
       "    .dataframe tbody tr th {\n",
       "        vertical-align: top;\n",
       "    }\n",
       "\n",
       "    .dataframe thead th {\n",
       "        text-align: right;\n",
       "    }\n",
       "</style>\n",
       "<table border=\"1\" class=\"dataframe\">\n",
       "  <thead>\n",
       "    <tr style=\"text-align: right;\">\n",
       "      <th></th>\n",
       "      <th>v2a1</th>\n",
       "      <th>hacdor</th>\n",
       "      <th>rooms</th>\n",
       "      <th>hacapo</th>\n",
       "      <th>v14a</th>\n",
       "      <th>refrig</th>\n",
       "      <th>v18q</th>\n",
       "      <th>v18q1</th>\n",
       "      <th>r4h1</th>\n",
       "      <th>r4h2</th>\n",
       "      <th>...</th>\n",
       "      <th>lugar1</th>\n",
       "      <th>lugar2</th>\n",
       "      <th>lugar3</th>\n",
       "      <th>lugar4</th>\n",
       "      <th>lugar5</th>\n",
       "      <th>lugar6</th>\n",
       "      <th>area1</th>\n",
       "      <th>area2</th>\n",
       "      <th>age</th>\n",
       "      <th>Target</th>\n",
       "    </tr>\n",
       "  </thead>\n",
       "  <tbody>\n",
       "    <tr>\n",
       "      <th>v2a1</th>\n",
       "      <td>1.000000</td>\n",
       "      <td>-0.022945</td>\n",
       "      <td>0.096752</td>\n",
       "      <td>-0.021961</td>\n",
       "      <td>0.024083</td>\n",
       "      <td>0.045291</td>\n",
       "      <td>0.179476</td>\n",
       "      <td>0.202622</td>\n",
       "      <td>0.025942</td>\n",
       "      <td>-0.029886</td>\n",
       "      <td>...</td>\n",
       "      <td>0.168408</td>\n",
       "      <td>-0.039600</td>\n",
       "      <td>-0.023930</td>\n",
       "      <td>-0.077042</td>\n",
       "      <td>-0.090304</td>\n",
       "      <td>-0.067789</td>\n",
       "      <td>0.141330</td>\n",
       "      <td>-0.141330</td>\n",
       "      <td>-0.205431</td>\n",
       "      <td>0.166112</td>\n",
       "    </tr>\n",
       "    <tr>\n",
       "      <th>hacdor</th>\n",
       "      <td>-0.022945</td>\n",
       "      <td>1.000000</td>\n",
       "      <td>-0.181283</td>\n",
       "      <td>0.624324</td>\n",
       "      <td>-0.143713</td>\n",
       "      <td>-0.055073</td>\n",
       "      <td>-0.061309</td>\n",
       "      <td>-0.056616</td>\n",
       "      <td>0.186709</td>\n",
       "      <td>0.057368</td>\n",
       "      <td>...</td>\n",
       "      <td>-0.029605</td>\n",
       "      <td>0.010581</td>\n",
       "      <td>0.026791</td>\n",
       "      <td>-0.010283</td>\n",
       "      <td>0.025574</td>\n",
       "      <td>0.001103</td>\n",
       "      <td>0.025404</td>\n",
       "      <td>-0.025404</td>\n",
       "      <td>-0.090660</td>\n",
       "      <td>-0.136275</td>\n",
       "    </tr>\n",
       "    <tr>\n",
       "      <th>rooms</th>\n",
       "      <td>0.096752</td>\n",
       "      <td>-0.181283</td>\n",
       "      <td>1.000000</td>\n",
       "      <td>-0.172382</td>\n",
       "      <td>0.136410</td>\n",
       "      <td>0.158394</td>\n",
       "      <td>0.263738</td>\n",
       "      <td>0.271945</td>\n",
       "      <td>-0.039824</td>\n",
       "      <td>0.232702</td>\n",
       "      <td>...</td>\n",
       "      <td>0.210526</td>\n",
       "      <td>-0.069091</td>\n",
       "      <td>-0.132380</td>\n",
       "      <td>-0.028103</td>\n",
       "      <td>-0.097762</td>\n",
       "      <td>-0.055276</td>\n",
       "      <td>0.126715</td>\n",
       "      <td>-0.126715</td>\n",
       "      <td>0.189562</td>\n",
       "      <td>0.201019</td>\n",
       "    </tr>\n",
       "    <tr>\n",
       "      <th>hacapo</th>\n",
       "      <td>-0.021961</td>\n",
       "      <td>0.624324</td>\n",
       "      <td>-0.172382</td>\n",
       "      <td>1.000000</td>\n",
       "      <td>-0.154749</td>\n",
       "      <td>-0.062110</td>\n",
       "      <td>-0.051432</td>\n",
       "      <td>-0.045953</td>\n",
       "      <td>0.174432</td>\n",
       "      <td>0.088729</td>\n",
       "      <td>...</td>\n",
       "      <td>-0.032999</td>\n",
       "      <td>0.018682</td>\n",
       "      <td>0.007766</td>\n",
       "      <td>0.000237</td>\n",
       "      <td>0.007112</td>\n",
       "      <td>0.025496</td>\n",
       "      <td>0.015219</td>\n",
       "      <td>-0.015219</td>\n",
       "      <td>-0.053421</td>\n",
       "      <td>-0.096313</td>\n",
       "    </tr>\n",
       "    <tr>\n",
       "      <th>v14a</th>\n",
       "      <td>0.024083</td>\n",
       "      <td>-0.143713</td>\n",
       "      <td>0.136410</td>\n",
       "      <td>-0.154749</td>\n",
       "      <td>1.000000</td>\n",
       "      <td>0.192954</td>\n",
       "      <td>0.029549</td>\n",
       "      <td>0.027883</td>\n",
       "      <td>-0.036434</td>\n",
       "      <td>0.019440</td>\n",
       "      <td>...</td>\n",
       "      <td>0.018571</td>\n",
       "      <td>-0.007181</td>\n",
       "      <td>-0.015806</td>\n",
       "      <td>0.006585</td>\n",
       "      <td>-0.021979</td>\n",
       "      <td>0.005262</td>\n",
       "      <td>-0.018117</td>\n",
       "      <td>0.018117</td>\n",
       "      <td>0.031887</td>\n",
       "      <td>0.068230</td>\n",
       "    </tr>\n",
       "    <tr>\n",
       "      <th>...</th>\n",
       "      <td>...</td>\n",
       "      <td>...</td>\n",
       "      <td>...</td>\n",
       "      <td>...</td>\n",
       "      <td>...</td>\n",
       "      <td>...</td>\n",
       "      <td>...</td>\n",
       "      <td>...</td>\n",
       "      <td>...</td>\n",
       "      <td>...</td>\n",
       "      <td>...</td>\n",
       "      <td>...</td>\n",
       "      <td>...</td>\n",
       "      <td>...</td>\n",
       "      <td>...</td>\n",
       "      <td>...</td>\n",
       "      <td>...</td>\n",
       "      <td>...</td>\n",
       "      <td>...</td>\n",
       "      <td>...</td>\n",
       "      <td>...</td>\n",
       "    </tr>\n",
       "    <tr>\n",
       "      <th>lugar6</th>\n",
       "      <td>-0.067789</td>\n",
       "      <td>0.001103</td>\n",
       "      <td>-0.055276</td>\n",
       "      <td>0.025496</td>\n",
       "      <td>0.005262</td>\n",
       "      <td>-0.053853</td>\n",
       "      <td>-0.081023</td>\n",
       "      <td>-0.080580</td>\n",
       "      <td>0.037855</td>\n",
       "      <td>0.030872</td>\n",
       "      <td>...</td>\n",
       "      <td>-0.348073</td>\n",
       "      <td>-0.091332</td>\n",
       "      <td>-0.076929</td>\n",
       "      <td>-0.086971</td>\n",
       "      <td>-0.092448</td>\n",
       "      <td>1.000000</td>\n",
       "      <td>-0.247387</td>\n",
       "      <td>0.247387</td>\n",
       "      <td>-0.036605</td>\n",
       "      <td>-0.047958</td>\n",
       "    </tr>\n",
       "    <tr>\n",
       "      <th>area1</th>\n",
       "      <td>0.141330</td>\n",
       "      <td>0.025404</td>\n",
       "      <td>0.126715</td>\n",
       "      <td>0.015219</td>\n",
       "      <td>-0.018117</td>\n",
       "      <td>0.066396</td>\n",
       "      <td>0.167636</td>\n",
       "      <td>0.157366</td>\n",
       "      <td>-0.034287</td>\n",
       "      <td>-0.043043</td>\n",
       "      <td>...</td>\n",
       "      <td>0.375230</td>\n",
       "      <td>-0.102796</td>\n",
       "      <td>-0.009893</td>\n",
       "      <td>-0.184287</td>\n",
       "      <td>-0.123131</td>\n",
       "      <td>-0.247387</td>\n",
       "      <td>1.000000</td>\n",
       "      <td>-1.000000</td>\n",
       "      <td>0.046851</td>\n",
       "      <td>0.089509</td>\n",
       "    </tr>\n",
       "    <tr>\n",
       "      <th>area2</th>\n",
       "      <td>-0.141330</td>\n",
       "      <td>-0.025404</td>\n",
       "      <td>-0.126715</td>\n",
       "      <td>-0.015219</td>\n",
       "      <td>0.018117</td>\n",
       "      <td>-0.066396</td>\n",
       "      <td>-0.167636</td>\n",
       "      <td>-0.157366</td>\n",
       "      <td>0.034287</td>\n",
       "      <td>0.043043</td>\n",
       "      <td>...</td>\n",
       "      <td>-0.375230</td>\n",
       "      <td>0.102796</td>\n",
       "      <td>0.009893</td>\n",
       "      <td>0.184287</td>\n",
       "      <td>0.123131</td>\n",
       "      <td>0.247387</td>\n",
       "      <td>-1.000000</td>\n",
       "      <td>1.000000</td>\n",
       "      <td>-0.046851</td>\n",
       "      <td>-0.089509</td>\n",
       "    </tr>\n",
       "    <tr>\n",
       "      <th>age</th>\n",
       "      <td>-0.205431</td>\n",
       "      <td>-0.090660</td>\n",
       "      <td>0.189562</td>\n",
       "      <td>-0.053421</td>\n",
       "      <td>0.031887</td>\n",
       "      <td>0.038315</td>\n",
       "      <td>-0.082681</td>\n",
       "      <td>-0.076773</td>\n",
       "      <td>-0.292030</td>\n",
       "      <td>0.048152</td>\n",
       "      <td>...</td>\n",
       "      <td>0.088904</td>\n",
       "      <td>0.004921</td>\n",
       "      <td>-0.046924</td>\n",
       "      <td>-0.025493</td>\n",
       "      <td>-0.057551</td>\n",
       "      <td>-0.036605</td>\n",
       "      <td>0.046851</td>\n",
       "      <td>-0.046851</td>\n",
       "      <td>1.000000</td>\n",
       "      <td>0.026581</td>\n",
       "    </tr>\n",
       "    <tr>\n",
       "      <th>Target</th>\n",
       "      <td>0.166112</td>\n",
       "      <td>-0.136275</td>\n",
       "      <td>0.201019</td>\n",
       "      <td>-0.096313</td>\n",
       "      <td>0.068230</td>\n",
       "      <td>0.119607</td>\n",
       "      <td>0.230644</td>\n",
       "      <td>0.197493</td>\n",
       "      <td>-0.186530</td>\n",
       "      <td>0.086395</td>\n",
       "      <td>...</td>\n",
       "      <td>0.175124</td>\n",
       "      <td>-0.019746</td>\n",
       "      <td>-0.085646</td>\n",
       "      <td>-0.084516</td>\n",
       "      <td>-0.079679</td>\n",
       "      <td>-0.047958</td>\n",
       "      <td>0.089509</td>\n",
       "      <td>-0.089509</td>\n",
       "      <td>0.026581</td>\n",
       "      <td>1.000000</td>\n",
       "    </tr>\n",
       "  </tbody>\n",
       "</table>\n",
       "<p>132 rows × 132 columns</p>\n",
       "</div>"
      ],
      "text/plain": [
       "            v2a1    hacdor     rooms    hacapo      v14a    refrig      v18q  \\\n",
       "v2a1    1.000000 -0.022945  0.096752 -0.021961  0.024083  0.045291  0.179476   \n",
       "hacdor -0.022945  1.000000 -0.181283  0.624324 -0.143713 -0.055073 -0.061309   \n",
       "rooms   0.096752 -0.181283  1.000000 -0.172382  0.136410  0.158394  0.263738   \n",
       "hacapo -0.021961  0.624324 -0.172382  1.000000 -0.154749 -0.062110 -0.051432   \n",
       "v14a    0.024083 -0.143713  0.136410 -0.154749  1.000000  0.192954  0.029549   \n",
       "...          ...       ...       ...       ...       ...       ...       ...   \n",
       "lugar6 -0.067789  0.001103 -0.055276  0.025496  0.005262 -0.053853 -0.081023   \n",
       "area1   0.141330  0.025404  0.126715  0.015219 -0.018117  0.066396  0.167636   \n",
       "area2  -0.141330 -0.025404 -0.126715 -0.015219  0.018117 -0.066396 -0.167636   \n",
       "age    -0.205431 -0.090660  0.189562 -0.053421  0.031887  0.038315 -0.082681   \n",
       "Target  0.166112 -0.136275  0.201019 -0.096313  0.068230  0.119607  0.230644   \n",
       "\n",
       "           v18q1      r4h1      r4h2  ...    lugar1    lugar2    lugar3  \\\n",
       "v2a1    0.202622  0.025942 -0.029886  ...  0.168408 -0.039600 -0.023930   \n",
       "hacdor -0.056616  0.186709  0.057368  ... -0.029605  0.010581  0.026791   \n",
       "rooms   0.271945 -0.039824  0.232702  ...  0.210526 -0.069091 -0.132380   \n",
       "hacapo -0.045953  0.174432  0.088729  ... -0.032999  0.018682  0.007766   \n",
       "v14a    0.027883 -0.036434  0.019440  ...  0.018571 -0.007181 -0.015806   \n",
       "...          ...       ...       ...  ...       ...       ...       ...   \n",
       "lugar6 -0.080580  0.037855  0.030872  ... -0.348073 -0.091332 -0.076929   \n",
       "area1   0.157366 -0.034287 -0.043043  ...  0.375230 -0.102796 -0.009893   \n",
       "area2  -0.157366  0.034287  0.043043  ... -0.375230  0.102796  0.009893   \n",
       "age    -0.076773 -0.292030  0.048152  ...  0.088904  0.004921 -0.046924   \n",
       "Target  0.197493 -0.186530  0.086395  ...  0.175124 -0.019746 -0.085646   \n",
       "\n",
       "          lugar4    lugar5    lugar6     area1     area2       age    Target  \n",
       "v2a1   -0.077042 -0.090304 -0.067789  0.141330 -0.141330 -0.205431  0.166112  \n",
       "hacdor -0.010283  0.025574  0.001103  0.025404 -0.025404 -0.090660 -0.136275  \n",
       "rooms  -0.028103 -0.097762 -0.055276  0.126715 -0.126715  0.189562  0.201019  \n",
       "hacapo  0.000237  0.007112  0.025496  0.015219 -0.015219 -0.053421 -0.096313  \n",
       "v14a    0.006585 -0.021979  0.005262 -0.018117  0.018117  0.031887  0.068230  \n",
       "...          ...       ...       ...       ...       ...       ...       ...  \n",
       "lugar6 -0.086971 -0.092448  1.000000 -0.247387  0.247387 -0.036605 -0.047958  \n",
       "area1  -0.184287 -0.123131 -0.247387  1.000000 -1.000000  0.046851  0.089509  \n",
       "area2   0.184287  0.123131  0.247387 -1.000000  1.000000 -0.046851 -0.089509  \n",
       "age    -0.025493 -0.057551 -0.036605  0.046851 -0.046851  1.000000  0.026581  \n",
       "Target -0.084516 -0.079679 -0.047958  0.089509 -0.089509  0.026581  1.000000  \n",
       "\n",
       "[132 rows x 132 columns]"
      ]
     },
     "execution_count": 35,
     "metadata": {},
     "output_type": "execute_result"
    }
   ],
   "source": [
    "corr_matrix = heads.corr()\n",
    "corr_matrix"
   ]
  },
  {
   "cell_type": "code",
   "execution_count": 36,
   "id": "931a5e4b",
   "metadata": {
    "execution": {
     "iopub.execute_input": "2022-01-31T10:01:28.091384Z",
     "iopub.status.busy": "2022-01-31T10:01:28.090855Z",
     "iopub.status.idle": "2022-01-31T10:01:28.095694Z",
     "shell.execute_reply": "2022-01-31T10:01:28.096116Z",
     "shell.execute_reply.started": "2022-01-31T09:57:54.126629Z"
    },
    "papermill": {
     "duration": 0.070139,
     "end_time": "2022-01-31T10:01:28.096266",
     "exception": false,
     "start_time": "2022-01-31T10:01:28.026127",
     "status": "completed"
    },
    "tags": []
   },
   "outputs": [],
   "source": [
    "#Selecting the upper traingle of corr_matrix\n",
    "upper = corr_matrix.where(np.triu(np.ones(corr_matrix.shape),k=1).astype(bool))"
   ]
  },
  {
   "cell_type": "code",
   "execution_count": 37,
   "id": "2de3d10d",
   "metadata": {
    "execution": {
     "iopub.execute_input": "2022-01-31T10:01:28.217935Z",
     "iopub.status.busy": "2022-01-31T10:01:28.217436Z",
     "iopub.status.idle": "2022-01-31T10:01:28.252881Z",
     "shell.execute_reply": "2022-01-31T10:01:28.253308Z",
     "shell.execute_reply.started": "2022-01-31T09:57:54.136765Z"
    },
    "papermill": {
     "duration": 0.097357,
     "end_time": "2022-01-31T10:01:28.253476",
     "exception": false,
     "start_time": "2022-01-31T10:01:28.156119",
     "status": "completed"
    },
    "tags": []
   },
   "outputs": [
    {
     "data": {
      "text/plain": [
       "['tamhog', 'hhsize', 'coopele', 'female', 'hogar_total', 'area2']"
      ]
     },
     "execution_count": 37,
     "metadata": {},
     "output_type": "execute_result"
    }
   ],
   "source": [
    "#Finding the index of feature columns with correlation greater than 0.95\n",
    "cols_to_drop = [column for column in upper.columns if any(abs(upper[column]) > 0.95)]\n",
    "\n",
    "cols_to_drop"
   ]
  },
  {
   "cell_type": "code",
   "execution_count": 38,
   "id": "41cceb75",
   "metadata": {
    "execution": {
     "iopub.execute_input": "2022-01-31T10:01:28.378674Z",
     "iopub.status.busy": "2022-01-31T10:01:28.378150Z",
     "iopub.status.idle": "2022-01-31T10:01:28.411465Z",
     "shell.execute_reply": "2022-01-31T10:01:28.410898Z",
     "shell.execute_reply.started": "2022-01-31T09:57:54.188210Z"
    },
    "papermill": {
     "duration": 0.096676,
     "end_time": "2022-01-31T10:01:28.411585",
     "exception": false,
     "start_time": "2022-01-31T10:01:28.314909",
     "status": "completed"
    },
    "tags": []
   },
   "outputs": [
    {
     "name": "stdout",
     "output_type": "stream",
     "text": [
      "(9557, 125) (23856, 124)\n"
     ]
    }
   ],
   "source": [
    "#Dropping the cols_to_drop features\n",
    "for df in [data_train, data_test]:\n",
    "    df.drop(columns=cols_to_drop, inplace=True)\n",
    "\n",
    "#Removing the male as well, as this would not be needed in model creation\n",
    "for df in [data_train, data_test]:\n",
    "    df.drop(columns = 'male',inplace=True)\n",
    "\n",
    "\n",
    "#dropping 'Id' and 'idhogar' columns \n",
    "cols = ['Id','idhogar']\n",
    "for df in [data_train,data_test]:\n",
    "    df.drop(columns= cols, inplace=True)\n",
    "\n",
    "print(data_train.shape, data_test.shape)"
   ]
  },
  {
   "cell_type": "markdown",
   "id": "720cd5f4",
   "metadata": {
    "papermill": {
     "duration": 0.060826,
     "end_time": "2022-01-31T10:01:28.533377",
     "exception": false,
     "start_time": "2022-01-31T10:01:28.472551",
     "status": "completed"
    },
    "tags": []
   },
   "source": [
    "##  Predict the accuracy using random forest classifier."
   ]
  },
  {
   "cell_type": "code",
   "execution_count": 39,
   "id": "f9b97fc1",
   "metadata": {
    "execution": {
     "iopub.execute_input": "2022-01-31T10:01:28.660427Z",
     "iopub.status.busy": "2022-01-31T10:01:28.659886Z",
     "iopub.status.idle": "2022-01-31T10:01:28.666484Z",
     "shell.execute_reply": "2022-01-31T10:01:28.666889Z",
     "shell.execute_reply.started": "2022-01-31T09:57:54.237716Z"
    },
    "papermill": {
     "duration": 0.071499,
     "end_time": "2022-01-31T10:01:28.667107",
     "exception": false,
     "start_time": "2022-01-31T10:01:28.595608",
     "status": "completed"
    },
    "tags": []
   },
   "outputs": [],
   "source": [
    "#Defining features and target variable\n",
    "X = data_train.drop('Target', axis=1)\n",
    "y = data_train['Target']"
   ]
  },
  {
   "cell_type": "code",
   "execution_count": 40,
   "id": "e5928718",
   "metadata": {
    "execution": {
     "iopub.execute_input": "2022-01-31T10:01:28.793224Z",
     "iopub.status.busy": "2022-01-31T10:01:28.792644Z",
     "iopub.status.idle": "2022-01-31T10:01:28.796748Z",
     "shell.execute_reply": "2022-01-31T10:01:28.796200Z",
     "shell.execute_reply.started": "2022-01-31T09:57:54.248948Z"
    },
    "papermill": {
     "duration": 0.06942,
     "end_time": "2022-01-31T10:01:28.796863",
     "exception": false,
     "start_time": "2022-01-31T10:01:28.727443",
     "status": "completed"
    },
    "tags": []
   },
   "outputs": [
    {
     "name": "stdout",
     "output_type": "stream",
     "text": [
      "Shape of X is (9557, 124), and shape of y is (9557,)\n"
     ]
    }
   ],
   "source": [
    "#Checking shape of X and y\n",
    "print(\"Shape of X is {}, and shape of y is {}\".format(X.shape, y.shape))"
   ]
  },
  {
   "cell_type": "code",
   "execution_count": 41,
   "id": "b1d47840",
   "metadata": {
    "execution": {
     "iopub.execute_input": "2022-01-31T10:01:28.921686Z",
     "iopub.status.busy": "2022-01-31T10:01:28.919576Z",
     "iopub.status.idle": "2022-01-31T10:01:28.933221Z",
     "shell.execute_reply": "2022-01-31T10:01:28.933609Z",
     "shell.execute_reply.started": "2022-01-31T09:57:54.256597Z"
    },
    "papermill": {
     "duration": 0.076425,
     "end_time": "2022-01-31T10:01:28.933752",
     "exception": false,
     "start_time": "2022-01-31T10:01:28.857327",
     "status": "completed"
    },
    "tags": []
   },
   "outputs": [],
   "source": [
    "#Splitting train and test data\n",
    "X_train,X_test,y_train,y_test = train_test_split(X, y, test_size=0.1)"
   ]
  },
  {
   "cell_type": "code",
   "execution_count": 42,
   "id": "3fff367f",
   "metadata": {
    "execution": {
     "iopub.execute_input": "2022-01-31T10:01:29.060384Z",
     "iopub.status.busy": "2022-01-31T10:01:29.059688Z",
     "iopub.status.idle": "2022-01-31T10:01:29.063658Z",
     "shell.execute_reply": "2022-01-31T10:01:29.064072Z",
     "shell.execute_reply.started": "2022-01-31T09:57:54.278835Z"
    },
    "papermill": {
     "duration": 0.070297,
     "end_time": "2022-01-31T10:01:29.064218",
     "exception": false,
     "start_time": "2022-01-31T10:01:28.993921",
     "status": "completed"
    },
    "tags": []
   },
   "outputs": [],
   "source": [
    "#instantiating the Random Forest Classifier with n_estimator as 150\n",
    "rfc_model = RandomForestClassifier(n_estimators=150)"
   ]
  },
  {
   "cell_type": "code",
   "execution_count": 43,
   "id": "959c11c4",
   "metadata": {
    "execution": {
     "iopub.execute_input": "2022-01-31T10:01:29.188213Z",
     "iopub.status.busy": "2022-01-31T10:01:29.187497Z",
     "iopub.status.idle": "2022-01-31T10:01:31.639621Z",
     "shell.execute_reply": "2022-01-31T10:01:31.640071Z",
     "shell.execute_reply.started": "2022-01-31T09:57:54.293560Z"
    },
    "papermill": {
     "duration": 2.515498,
     "end_time": "2022-01-31T10:01:31.640221",
     "exception": false,
     "start_time": "2022-01-31T10:01:29.124723",
     "status": "completed"
    },
    "tags": []
   },
   "outputs": [
    {
     "data": {
      "text/plain": [
       "RandomForestClassifier(n_estimators=150)"
      ]
     },
     "execution_count": 43,
     "metadata": {},
     "output_type": "execute_result"
    }
   ],
   "source": [
    "#Fitting the model\n",
    "rfc_model.fit(X_train,y_train)"
   ]
  },
  {
   "cell_type": "code",
   "execution_count": 44,
   "id": "c9290fef",
   "metadata": {
    "execution": {
     "iopub.execute_input": "2022-01-31T10:01:31.769640Z",
     "iopub.status.busy": "2022-01-31T10:01:31.769102Z",
     "iopub.status.idle": "2022-01-31T10:01:31.823145Z",
     "shell.execute_reply": "2022-01-31T10:01:31.823567Z",
     "shell.execute_reply.started": "2022-01-31T09:57:56.759758Z"
    },
    "papermill": {
     "duration": 0.123561,
     "end_time": "2022-01-31T10:01:31.823713",
     "exception": false,
     "start_time": "2022-01-31T10:01:31.700152",
     "status": "completed"
    },
    "tags": []
   },
   "outputs": [],
   "source": [
    "#Predicting the y_pred_test\n",
    "y_pred_test = rfc_model.predict(X_test)"
   ]
  },
  {
   "cell_type": "code",
   "execution_count": 45,
   "id": "422ce2e2",
   "metadata": {
    "execution": {
     "iopub.execute_input": "2022-01-31T10:01:31.950478Z",
     "iopub.status.busy": "2022-01-31T10:01:31.949742Z",
     "iopub.status.idle": "2022-01-31T10:01:31.964709Z",
     "shell.execute_reply": "2022-01-31T10:01:31.964077Z",
     "shell.execute_reply.started": "2022-01-31T09:57:56.836725Z"
    },
    "papermill": {
     "duration": 0.080195,
     "end_time": "2022-01-31T10:01:31.964844",
     "exception": false,
     "start_time": "2022-01-31T10:01:31.884649",
     "status": "completed"
    },
    "tags": []
   },
   "outputs": [
    {
     "name": "stdout",
     "output_type": "stream",
     "text": [
      "Accuracy score of RFC model on test dataset is : \n",
      "0.9612970711297071\n",
      "[[ 60   2   0   7]\n",
      " [  2 142   0   8]\n",
      " [  0   0 109  16]\n",
      " [  0   0   2 608]]\n",
      "              precision    recall  f1-score   support\n",
      "\n",
      "           1       0.97      0.87      0.92        69\n",
      "           2       0.99      0.93      0.96       152\n",
      "           3       0.98      0.87      0.92       125\n",
      "           4       0.95      1.00      0.97       610\n",
      "\n",
      "    accuracy                           0.96       956\n",
      "   macro avg       0.97      0.92      0.94       956\n",
      "weighted avg       0.96      0.96      0.96       956\n",
      "\n"
     ]
    }
   ],
   "source": [
    "#Checking accuracy score, confusion matrix and classification report on test data\n",
    "print(\"Accuracy score of RFC model on test dataset is : \")\n",
    "print(accuracy_score(y_test, y_pred_test))\n",
    "print(confusion_matrix(y_test, y_pred_test))\n",
    "print(classification_report(y_test, y_pred_test))"
   ]
  },
  {
   "cell_type": "markdown",
   "id": "e87d8879",
   "metadata": {
    "papermill": {
     "duration": 0.09344,
     "end_time": "2022-01-31T10:01:32.153044",
     "exception": false,
     "start_time": "2022-01-31T10:01:32.059604",
     "status": "completed"
    },
    "tags": []
   },
   "source": [
    " ##  Check the accuracy using random forest with cross validation."
   ]
  },
  {
   "cell_type": "code",
   "execution_count": 46,
   "id": "d0a7176b",
   "metadata": {
    "execution": {
     "iopub.execute_input": "2022-01-31T10:01:32.302771Z",
     "iopub.status.busy": "2022-01-31T10:01:32.302220Z",
     "iopub.status.idle": "2022-01-31T10:01:40.239304Z",
     "shell.execute_reply": "2022-01-31T10:01:40.238885Z",
     "shell.execute_reply.started": "2022-01-31T09:57:56.856307Z"
    },
    "papermill": {
     "duration": 8.004117,
     "end_time": "2022-01-31T10:01:40.239444",
     "exception": false,
     "start_time": "2022-01-31T10:01:32.235327",
     "status": "completed"
    },
    "tags": []
   },
   "outputs": [
    {
     "name": "stdout",
     "output_type": "stream",
     "text": [
      "[0.93849372 0.94390959 0.9464211  0.94181666]\n"
     ]
    }
   ],
   "source": [
    "#Defining cross validation generator and calculating cross_val_score\n",
    "kfold = KFold(n_splits=4,random_state=seed,shuffle=True)\n",
    "print(cross_val_score(rfc_model, X, y, cv=kfold, scoring='accuracy'))"
   ]
  },
  {
   "cell_type": "code",
   "execution_count": 47,
   "id": "40207712",
   "metadata": {
    "execution": {
     "iopub.execute_input": "2022-01-31T10:01:40.367384Z",
     "iopub.status.busy": "2022-01-31T10:01:40.366324Z",
     "iopub.status.idle": "2022-01-31T10:01:48.192718Z",
     "shell.execute_reply": "2022-01-31T10:01:48.193107Z",
     "shell.execute_reply.started": "2022-01-31T09:58:05.324800Z"
    },
    "papermill": {
     "duration": 7.891751,
     "end_time": "2022-01-31T10:01:48.193244",
     "exception": false,
     "start_time": "2022-01-31T10:01:40.301493",
     "status": "completed"
    },
    "tags": []
   },
   "outputs": [
    {
     "name": "stdout",
     "output_type": "stream",
     "text": [
      "0.9392059316497685\n"
     ]
    }
   ],
   "source": [
    "#Mean of cross_val_score\n",
    "print(cross_val_score(rfc_model, X, y, cv=kfold, scoring='accuracy').mean())"
   ]
  },
  {
   "cell_type": "markdown",
   "id": "38c09cad",
   "metadata": {
    "papermill": {
     "duration": 0.094458,
     "end_time": "2022-01-31T10:01:48.382118",
     "exception": false,
     "start_time": "2022-01-31T10:01:48.287660",
     "status": "completed"
    },
    "tags": []
   },
   "source": [
    "## Checking for the important and impactful features"
   ]
  },
  {
   "cell_type": "code",
   "execution_count": 48,
   "id": "ea670d17",
   "metadata": {
    "execution": {
     "iopub.execute_input": "2022-01-31T10:01:48.592314Z",
     "iopub.status.busy": "2022-01-31T10:01:48.591600Z",
     "iopub.status.idle": "2022-01-31T10:01:48.613193Z",
     "shell.execute_reply": "2022-01-31T10:01:48.613797Z",
     "shell.execute_reply.started": "2022-01-31T09:58:13.753224Z"
    },
    "papermill": {
     "duration": 0.127494,
     "end_time": "2022-01-31T10:01:48.614012",
     "exception": false,
     "start_time": "2022-01-31T10:01:48.486518",
     "status": "completed"
    },
    "tags": []
   },
   "outputs": [],
   "source": [
    "feature_labels = list(X)\n",
    "feature_importance = pd.DataFrame({'Feature' : feature_labels, 'Importance' : rfc_model.feature_importances_})"
   ]
  },
  {
   "cell_type": "code",
   "execution_count": 49,
   "id": "e36407ba",
   "metadata": {
    "execution": {
     "iopub.execute_input": "2022-01-31T10:01:48.794909Z",
     "iopub.status.busy": "2022-01-31T10:01:48.787148Z",
     "iopub.status.idle": "2022-01-31T10:01:48.798576Z",
     "shell.execute_reply": "2022-01-31T10:01:48.798075Z",
     "shell.execute_reply.started": "2022-01-31T09:58:13.784369Z"
    },
    "papermill": {
     "duration": 0.08946,
     "end_time": "2022-01-31T10:01:48.798683",
     "exception": false,
     "start_time": "2022-01-31T10:01:48.709223",
     "status": "completed"
    },
    "tags": []
   },
   "outputs": [
    {
     "data": {
      "text/html": [
       "<div>\n",
       "<style scoped>\n",
       "    .dataframe tbody tr th:only-of-type {\n",
       "        vertical-align: middle;\n",
       "    }\n",
       "\n",
       "    .dataframe tbody tr th {\n",
       "        vertical-align: top;\n",
       "    }\n",
       "\n",
       "    .dataframe thead th {\n",
       "        text-align: right;\n",
       "    }\n",
       "</style>\n",
       "<table border=\"1\" class=\"dataframe\">\n",
       "  <thead>\n",
       "    <tr style=\"text-align: right;\">\n",
       "      <th></th>\n",
       "      <th>Feature</th>\n",
       "      <th>Importance</th>\n",
       "    </tr>\n",
       "  </thead>\n",
       "  <tbody>\n",
       "    <tr>\n",
       "      <th>2</th>\n",
       "      <td>rooms</td>\n",
       "      <td>0.026007</td>\n",
       "    </tr>\n",
       "    <tr>\n",
       "      <th>89</th>\n",
       "      <td>hogar_nin</td>\n",
       "      <td>0.032077</td>\n",
       "    </tr>\n",
       "    <tr>\n",
       "      <th>92</th>\n",
       "      <td>dependency</td>\n",
       "      <td>0.044786</td>\n",
       "    </tr>\n",
       "    <tr>\n",
       "      <th>93</th>\n",
       "      <td>edjefe</td>\n",
       "      <td>0.031589</td>\n",
       "    </tr>\n",
       "    <tr>\n",
       "      <th>95</th>\n",
       "      <td>meaneduc</td>\n",
       "      <td>0.071796</td>\n",
       "    </tr>\n",
       "    <tr>\n",
       "      <th>106</th>\n",
       "      <td>overcrowding</td>\n",
       "      <td>0.036035</td>\n",
       "    </tr>\n",
       "    <tr>\n",
       "      <th>115</th>\n",
       "      <td>qmobilephone</td>\n",
       "      <td>0.029486</td>\n",
       "    </tr>\n",
       "  </tbody>\n",
       "</table>\n",
       "</div>"
      ],
      "text/plain": [
       "          Feature  Importance\n",
       "2           rooms    0.026007\n",
       "89      hogar_nin    0.032077\n",
       "92     dependency    0.044786\n",
       "93         edjefe    0.031589\n",
       "95       meaneduc    0.071796\n",
       "106  overcrowding    0.036035\n",
       "115  qmobilephone    0.029486"
      ]
     },
     "execution_count": 49,
     "metadata": {},
     "output_type": "execute_result"
    }
   ],
   "source": [
    "feature_importance[feature_importance['Importance']>0.025]"
   ]
  },
  {
   "cell_type": "markdown",
   "id": "a33ddafd",
   "metadata": {
    "papermill": {
     "duration": 0.061903,
     "end_time": "2022-01-31T10:01:48.921591",
     "exception": false,
     "start_time": "2022-01-31T10:01:48.859688",
     "status": "completed"
    },
    "tags": []
   },
   "source": [
    "Note - From the above we infer that features **room, hogar_nin, dependency, edjefe, meaneduc, overcrowding and qmobilephone** \n",
    "play an important role deciding the Income Qualification Level."
   ]
  },
  {
   "cell_type": "markdown",
   "id": "90ad3022",
   "metadata": {
    "papermill": {
     "duration": 0.062954,
     "end_time": "2022-01-31T10:01:49.046753",
     "exception": false,
     "start_time": "2022-01-31T10:01:48.983799",
     "status": "completed"
    },
    "tags": []
   },
   "source": [
    "## End of the Notebook"
   ]
  },
  {
   "cell_type": "code",
   "execution_count": null,
   "id": "dd1be85f",
   "metadata": {
    "papermill": {
     "duration": 0.062392,
     "end_time": "2022-01-31T10:01:49.171036",
     "exception": false,
     "start_time": "2022-01-31T10:01:49.108644",
     "status": "completed"
    },
    "tags": []
   },
   "outputs": [],
   "source": []
  }
 ],
 "metadata": {
  "kernelspec": {
   "display_name": "Python 3",
   "language": "python",
   "name": "python3"
  },
  "language_info": {
   "codemirror_mode": {
    "name": "ipython",
    "version": 3
   },
   "file_extension": ".py",
   "mimetype": "text/x-python",
   "name": "python",
   "nbconvert_exporter": "python",
   "pygments_lexer": "ipython3",
   "version": "3.7.12"
  },
  "papermill": {
   "default_parameters": {},
   "duration": 43.419821,
   "end_time": "2022-01-31T10:01:50.245762",
   "environment_variables": {},
   "exception": null,
   "input_path": "__notebook__.ipynb",
   "output_path": "__notebook__.ipynb",
   "parameters": {},
   "start_time": "2022-01-31T10:01:06.825941",
   "version": "2.3.3"
  }
 },
 "nbformat": 4,
 "nbformat_minor": 5
}
